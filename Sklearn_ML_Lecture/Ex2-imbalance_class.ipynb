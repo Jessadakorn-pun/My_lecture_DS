{
 "cells": [
  {
   "cell_type": "markdown",
   "id": "f8effe70-7c73-40e6-aadd-25aafde821f6",
   "metadata": {},
   "source": [
    "# Imbalance Class"
   ]
  },
  {
   "cell_type": "code",
   "execution_count": 187,
   "id": "a70550ba-b7d0-4d65-ba79-483da0d1d3ec",
   "metadata": {
    "tags": []
   },
   "outputs": [],
   "source": [
    "import numpy as np\n",
    "import pandas as pd\n",
    "import matplotlib.pyplot as plt\n",
    "import seaborn as sns\n",
    "\n",
    "from sklearn.datasets import load_breast_cancer\n",
    "from sklearn.pipeline import Pipeline\n",
    "from sklearn.preprocessing import StandardScaler\n",
    "from sklearn.model_selection import train_test_split\n",
    "from sklearn.decomposition import PCA\n",
    "from sklearn.svm import SVC\n",
    "\n",
    "from sklearn import metrics"
   ]
  },
  {
   "cell_type": "markdown",
   "id": "050bca64-1339-4169-a531-d78841687413",
   "metadata": {},
   "source": [
    "## Load dataset"
   ]
  },
  {
   "cell_type": "code",
   "execution_count": 188,
   "id": "06bcd318-7453-485c-8cc1-b431caeb4ec9",
   "metadata": {
    "tags": []
   },
   "outputs": [],
   "source": [
    "dataobj = load_breast_cancer()\n",
    "\n",
    "X = pd.DataFrame(dataobj.data, columns=dataobj.feature_names)\n",
    "y = dataobj.target\n",
    "\n",
    "df = X\n",
    "df['target'] = y"
   ]
  },
  {
   "cell_type": "code",
   "execution_count": 189,
   "id": "0d6bb89f-2ce6-4511-a7e9-4f08f68f836b",
   "metadata": {
    "tags": []
   },
   "outputs": [
    {
     "data": {
      "image/png": "[encoded data removed]",
      "text/plain": [
       "<Figure size 640x480 with 1 Axes>"
      ]
     },
     "metadata": {},
     "output_type": "display_data"
    }
   ],
   "source": [
    "df.target.value_counts().plot(kind = 'bar');"
   ]
  },
  {
   "cell_type": "code",
   "execution_count": 190,
   "id": "f5d67cf1-f627-41e3-82ae-7bfd2dd9ea5a",
   "metadata": {
    "tags": []
   },
   "outputs": [
    {
     "data": {
      "image/png": "[encoded data removed]",
      "text/plain": [
       "<Figure size 640x480 with 1 Axes>"
      ]
     },
     "metadata": {},
     "output_type": "display_data"
    }
   ],
   "source": [
    "df0 = df[df.target==0].sample(frac=.1, random_state=1)\n",
    "df1 = df[df.target==1]\n",
    "\n",
    "df_im = pd.concat([df0, df1], axis=0)\n",
    "df_im.target.value_counts().plot(kind='bar');\n",
    "\n",
    "X = df_im.iloc[:, :len(df_im.columns) - 1]\n",
    "y = df_im.target"
   ]
  },
  {
   "cell_type": "markdown",
   "id": "8551d8ab-398f-4d42-b119-c918ca2da916",
   "metadata": {},
   "source": [
    "# Split data"
   ]
  },
  {
   "cell_type": "code",
   "execution_count": 191,
   "id": "ef4c2282-0747-4949-9681-db88bad49d26",
   "metadata": {
    "tags": []
   },
   "outputs": [],
   "source": [
    "X_train, X_test, y_train, y_test = train_test_split(X, y, train_size=.8, random_state=1, stratify=y)"
   ]
  },
  {
   "cell_type": "markdown",
   "id": "c7168cca-cc54-4870-9d08-2a3767e77004",
   "metadata": {
    "tags": []
   },
   "source": [
    "# Pipline"
   ]
  },
  {
   "cell_type": "code",
   "execution_count": 192,
   "id": "8aa49016-8ae8-4343-9010-5c4dbc230382",
   "metadata": {
    "tags": []
   },
   "outputs": [
    {
     "data": {
      "text/html": [
       "<style>#sk-container-id-42 {color: black;}#sk-container-id-42 pre{padding: 0;}#sk-container-id-42 div.sk-toggleable {background-color: white;}#sk-container-id-42 label.sk-toggleable__label {cursor: pointer;display: block;width: 100%;margin-bottom: 0;padding: 0.3em;box-sizing: border-box;text-align: center;}#sk-container-id-42 label.sk-toggleable__label-arrow:before {content: \"▸\";float: left;margin-right: 0.25em;color: #696969;}#sk-container-id-42 label.sk-toggleable__label-arrow:hover:before {color: black;}#sk-container-id-42 div.sk-estimator:hover label.sk-toggleable__label-arrow:before {color: black;}#sk-container-id-42 div.sk-toggleable__content {max-height: 0;max-width: 0;overflow: hidden;text-align: left;background-color: #f0f8ff;}#sk-container-id-42 div.sk-toggleable__content pre {margin: 0.2em;color: black;border-radius: 0.25em;background-color: #f0f8ff;}#sk-container-id-42 input.sk-toggleable__control:checked~div.sk-toggleable__content {max-height: 200px;max-width: 100%;overflow: auto;}#sk-container-id-42 input.sk-toggleable__control:checked~label.sk-toggleable__label-arrow:before {content: \"▾\";}#sk-container-id-42 div.sk-estimator input.sk-toggleable__control:checked~label.sk-toggleable__label {background-color: #d4ebff;}#sk-container-id-42 div.sk-label input.sk-toggleable__control:checked~label.sk-toggleable__label {background-color: #d4ebff;}#sk-container-id-42 input.sk-hidden--visually {border: 0;clip: rect(1px 1px 1px 1px);clip: rect(1px, 1px, 1px, 1px);height: 1px;margin: -1px;overflow: hidden;padding: 0;position: absolute;width: 1px;}#sk-container-id-42 div.sk-estimator {font-family: monospace;background-color: #f0f8ff;border: 1px dotted black;border-radius: 0.25em;box-sizing: border-box;margin-bottom: 0.5em;}#sk-container-id-42 div.sk-estimator:hover {background-color: #d4ebff;}#sk-container-id-42 div.sk-parallel-item::after {content: \"\";width: 100%;border-bottom: 1px solid gray;flex-grow: 1;}#sk-container-id-42 div.sk-label:hover label.sk-toggleable__label {background-color: #d4ebff;}#sk-container-id-42 div.sk-serial::before {content: \"\";position: absolute;border-left: 1px solid gray;box-sizing: border-box;top: 0;bottom: 0;left: 50%;z-index: 0;}#sk-container-id-42 div.sk-serial {display: flex;flex-direction: column;align-items: center;background-color: white;padding-right: 0.2em;padding-left: 0.2em;position: relative;}#sk-container-id-42 div.sk-item {position: relative;z-index: 1;}#sk-container-id-42 div.sk-parallel {display: flex;align-items: stretch;justify-content: center;background-color: white;position: relative;}#sk-container-id-42 div.sk-item::before, #sk-container-id-42 div.sk-parallel-item::before {content: \"\";position: absolute;border-left: 1px solid gray;box-sizing: border-box;top: 0;bottom: 0;left: 50%;z-index: -1;}#sk-container-id-42 div.sk-parallel-item {display: flex;flex-direction: column;z-index: 1;position: relative;background-color: white;}#sk-container-id-42 div.sk-parallel-item:first-child::after {align-self: flex-end;width: 50%;}#sk-container-id-42 div.sk-parallel-item:last-child::after {align-self: flex-start;width: 50%;}#sk-container-id-42 div.sk-parallel-item:only-child::after {width: 0;}#sk-container-id-42 div.sk-dashed-wrapped {border: 1px dashed gray;margin: 0 0.4em 0.5em 0.4em;box-sizing: border-box;padding-bottom: 0.4em;background-color: white;}#sk-container-id-42 div.sk-label label {font-family: monospace;font-weight: bold;display: inline-block;line-height: 1.2em;}#sk-container-id-42 div.sk-label-container {text-align: center;}#sk-container-id-42 div.sk-container {/* jupyter's `normalize.less` sets `[hidden] { display: none; }` but bootstrap.min.css set `[hidden] { display: none !important; }` so we also need the `!important` here to be able to override the default hidden behavior on the sphinx rendered scikit-learn.org. See: https://github.com/scikit-learn/scikit-learn/issues/21755 */display: inline-block !important;position: relative;}#sk-container-id-42 div.sk-text-repr-fallback {display: none;}</style><div id=\"sk-container-id-42\" class=\"sk-top-container\"><div class=\"sk-text-repr-fallback\"><pre>Pipeline(steps=[(&#x27;scl&#x27;, StandardScaler()), (&#x27;pca&#x27;, PCA(n_components=0.9)),\n",
       "                (&#x27;clf&#x27;, SVC(random_state=1))])</pre><b>In a Jupyter environment, please rerun this cell to show the HTML representation or trust the notebook. <br />On GitHub, the HTML representation is unable to render, please try loading this page with nbviewer.org.</b></div><div class=\"sk-container\" hidden><div class=\"sk-item sk-dashed-wrapped\"><div class=\"sk-label-container\"><div class=\"sk-label sk-toggleable\"><input class=\"sk-toggleable__control sk-hidden--visually\" id=\"sk-estimator-id-201\" type=\"checkbox\" ><label for=\"sk-estimator-id-201\" class=\"sk-toggleable__label sk-toggleable__label-arrow\">Pipeline</label><div class=\"sk-toggleable__content\"><pre>Pipeline(steps=[(&#x27;scl&#x27;, StandardScaler()), (&#x27;pca&#x27;, PCA(n_components=0.9)),\n",
       "                (&#x27;clf&#x27;, SVC(random_state=1))])</pre></div></div></div><div class=\"sk-serial\"><div class=\"sk-item\"><div class=\"sk-estimator sk-toggleable\"><input class=\"sk-toggleable__control sk-hidden--visually\" id=\"sk-estimator-id-202\" type=\"checkbox\" ><label for=\"sk-estimator-id-202\" class=\"sk-toggleable__label sk-toggleable__label-arrow\">StandardScaler</label><div class=\"sk-toggleable__content\"><pre>StandardScaler()</pre></div></div></div><div class=\"sk-item\"><div class=\"sk-estimator sk-toggleable\"><input class=\"sk-toggleable__control sk-hidden--visually\" id=\"sk-estimator-id-203\" type=\"checkbox\" ><label for=\"sk-estimator-id-203\" class=\"sk-toggleable__label sk-toggleable__label-arrow\">PCA</label><div class=\"sk-toggleable__content\"><pre>PCA(n_components=0.9)</pre></div></div></div><div class=\"sk-item\"><div class=\"sk-estimator sk-toggleable\"><input class=\"sk-toggleable__control sk-hidden--visually\" id=\"sk-estimator-id-204\" type=\"checkbox\" ><label for=\"sk-estimator-id-204\" class=\"sk-toggleable__label sk-toggleable__label-arrow\">SVC</label><div class=\"sk-toggleable__content\"><pre>SVC(random_state=1)</pre></div></div></div></div></div></div></div>"
      ],
      "text/plain": [
       "Pipeline(steps=[('scl', StandardScaler()), ('pca', PCA(n_components=0.9)),\n",
       "                ('clf', SVC(random_state=1))])"
      ]
     },
     "execution_count": 192,
     "metadata": {},
     "output_type": "execute_result"
    }
   ],
   "source": [
    "scl = StandardScaler()\n",
    "pca = PCA(n_components=.9)\n",
    "clf = SVC(random_state=1)\n",
    "\n",
    "pipe = Pipeline([\n",
    "    ('scl', scl),\n",
    "    ('pca', pca),\n",
    "    ('clf', clf)\n",
    "])\n",
    "\n",
    "pipe"
   ]
  },
  {
   "cell_type": "markdown",
   "id": "fd4184a1-60a4-4079-a9ad-746fa6571069",
   "metadata": {},
   "source": [
    "## Grid Search CV"
   ]
  },
  {
   "cell_type": "code",
   "execution_count": 193,
   "id": "ef6d2585-b740-4e31-93d3-6e52bd213f65",
   "metadata": {
    "tags": []
   },
   "outputs": [
    {
     "data": {
      "text/plain": [
       "{'memory': None,\n",
       " 'steps': [('scl', StandardScaler()),\n",
       "  ('pca', PCA(n_components=0.9)),\n",
       "  ('clf', SVC(random_state=1))],\n",
       " 'verbose': False,\n",
       " 'scl': StandardScaler(),\n",
       " 'pca': PCA(n_components=0.9),\n",
       " 'clf': SVC(random_state=1),\n",
       " 'scl__copy': True,\n",
       " 'scl__with_mean': True,\n",
       " 'scl__with_std': True,\n",
       " 'pca__copy': True,\n",
       " 'pca__iterated_power': 'auto',\n",
       " 'pca__n_components': 0.9,\n",
       " 'pca__n_oversamples': 10,\n",
       " 'pca__power_iteration_normalizer': 'auto',\n",
       " 'pca__random_state': None,\n",
       " 'pca__svd_solver': 'auto',\n",
       " 'pca__tol': 0.0,\n",
       " 'pca__whiten': False,\n",
       " 'clf__C': 1.0,\n",
       " 'clf__break_ties': False,\n",
       " 'clf__cache_size': 200,\n",
       " 'clf__class_weight': None,\n",
       " 'clf__coef0': 0.0,\n",
       " 'clf__decision_function_shape': 'ovr',\n",
       " 'clf__degree': 3,\n",
       " 'clf__gamma': 'scale',\n",
       " 'clf__kernel': 'rbf',\n",
       " 'clf__max_iter': -1,\n",
       " 'clf__probability': False,\n",
       " 'clf__random_state': 1,\n",
       " 'clf__shrinking': True,\n",
       " 'clf__tol': 0.001,\n",
       " 'clf__verbose': False}"
      ]
     },
     "execution_count": 193,
     "metadata": {},
     "output_type": "execute_result"
    }
   ],
   "source": [
    "pipe.get_params()"
   ]
  },
  {
   "cell_type": "code",
   "execution_count": 194,
   "id": "016b51f2-0110-4f5e-ac76-f3861d77d63a",
   "metadata": {
    "tags": []
   },
   "outputs": [],
   "source": [
    "from sklearn.model_selection import GridSearchCV"
   ]
  },
  {
   "cell_type": "code",
   "execution_count": 195,
   "id": "0578a9ba-5375-4c83-b98f-2f809afdcc8c",
   "metadata": {
    "tags": []
   },
   "outputs": [],
   "source": [
    "params_range = [.0001, .001, .01, .1, 1, 10, 100, 1000]\n",
    "\n",
    "set1 = {\n",
    "    'clf__C' : params_range,\n",
    "    'clf__gamma' : params_range,\n",
    "    'clf__kernel' : ['linear']\n",
    "}\n",
    "\n",
    "set2 = {\n",
    "    'clf__C' : params_range,\n",
    "    'clf__gamma' : params_range,\n",
    "    'clf__kernel' : ['poly']\n",
    "}\n",
    "\n",
    "set3 = {\n",
    "    'clf__C' : params_range,\n",
    "    'clf__gamma' : params_range,\n",
    "    'clf__kernel' : ['rbf']\n",
    "}\n",
    "\n",
    "param_grid = [set1, set2, set3]"
   ]
  },
  {
   "cell_type": "code",
   "execution_count": 196,
   "id": "c5d065f0-a8f8-4db4-b950-e20fc758723c",
   "metadata": {
    "tags": []
   },
   "outputs": [
    {
     "data": {
      "text/html": [
       "<style>#sk-container-id-43 {color: black;}#sk-container-id-43 pre{padding: 0;}#sk-container-id-43 div.sk-toggleable {background-color: white;}#sk-container-id-43 label.sk-toggleable__label {cursor: pointer;display: block;width: 100%;margin-bottom: 0;padding: 0.3em;box-sizing: border-box;text-align: center;}#sk-container-id-43 label.sk-toggleable__label-arrow:before {content: \"▸\";float: left;margin-right: 0.25em;color: #696969;}#sk-container-id-43 label.sk-toggleable__label-arrow:hover:before {color: black;}#sk-container-id-43 div.sk-estimator:hover label.sk-toggleable__label-arrow:before {color: black;}#sk-container-id-43 div.sk-toggleable__content {max-height: 0;max-width: 0;overflow: hidden;text-align: left;background-color: #f0f8ff;}#sk-container-id-43 div.sk-toggleable__content pre {margin: 0.2em;color: black;border-radius: 0.25em;background-color: #f0f8ff;}#sk-container-id-43 input.sk-toggleable__control:checked~div.sk-toggleable__content {max-height: 200px;max-width: 100%;overflow: auto;}#sk-container-id-43 input.sk-toggleable__control:checked~label.sk-toggleable__label-arrow:before {content: \"▾\";}#sk-container-id-43 div.sk-estimator input.sk-toggleable__control:checked~label.sk-toggleable__label {background-color: #d4ebff;}#sk-container-id-43 div.sk-label input.sk-toggleable__control:checked~label.sk-toggleable__label {background-color: #d4ebff;}#sk-container-id-43 input.sk-hidden--visually {border: 0;clip: rect(1px 1px 1px 1px);clip: rect(1px, 1px, 1px, 1px);height: 1px;margin: -1px;overflow: hidden;padding: 0;position: absolute;width: 1px;}#sk-container-id-43 div.sk-estimator {font-family: monospace;background-color: #f0f8ff;border: 1px dotted black;border-radius: 0.25em;box-sizing: border-box;margin-bottom: 0.5em;}#sk-container-id-43 div.sk-estimator:hover {background-color: #d4ebff;}#sk-container-id-43 div.sk-parallel-item::after {content: \"\";width: 100%;border-bottom: 1px solid gray;flex-grow: 1;}#sk-container-id-43 div.sk-label:hover label.sk-toggleable__label {background-color: #d4ebff;}#sk-container-id-43 div.sk-serial::before {content: \"\";position: absolute;border-left: 1px solid gray;box-sizing: border-box;top: 0;bottom: 0;left: 50%;z-index: 0;}#sk-container-id-43 div.sk-serial {display: flex;flex-direction: column;align-items: center;background-color: white;padding-right: 0.2em;padding-left: 0.2em;position: relative;}#sk-container-id-43 div.sk-item {position: relative;z-index: 1;}#sk-container-id-43 div.sk-parallel {display: flex;align-items: stretch;justify-content: center;background-color: white;position: relative;}#sk-container-id-43 div.sk-item::before, #sk-container-id-43 div.sk-parallel-item::before {content: \"\";position: absolute;border-left: 1px solid gray;box-sizing: border-box;top: 0;bottom: 0;left: 50%;z-index: -1;}#sk-container-id-43 div.sk-parallel-item {display: flex;flex-direction: column;z-index: 1;position: relative;background-color: white;}#sk-container-id-43 div.sk-parallel-item:first-child::after {align-self: flex-end;width: 50%;}#sk-container-id-43 div.sk-parallel-item:last-child::after {align-self: flex-start;width: 50%;}#sk-container-id-43 div.sk-parallel-item:only-child::after {width: 0;}#sk-container-id-43 div.sk-dashed-wrapped {border: 1px dashed gray;margin: 0 0.4em 0.5em 0.4em;box-sizing: border-box;padding-bottom: 0.4em;background-color: white;}#sk-container-id-43 div.sk-label label {font-family: monospace;font-weight: bold;display: inline-block;line-height: 1.2em;}#sk-container-id-43 div.sk-label-container {text-align: center;}#sk-container-id-43 div.sk-container {/* jupyter's `normalize.less` sets `[hidden] { display: none; }` but bootstrap.min.css set `[hidden] { display: none !important; }` so we also need the `!important` here to be able to override the default hidden behavior on the sphinx rendered scikit-learn.org. See: https://github.com/scikit-learn/scikit-learn/issues/21755 */display: inline-block !important;position: relative;}#sk-container-id-43 div.sk-text-repr-fallback {display: none;}</style><div id=\"sk-container-id-43\" class=\"sk-top-container\"><div class=\"sk-text-repr-fallback\"><pre>GridSearchCV(cv=10,\n",
       "             estimator=Pipeline(steps=[(&#x27;scl&#x27;, StandardScaler()),\n",
       "                                       (&#x27;pca&#x27;, PCA(n_components=0.9)),\n",
       "                                       (&#x27;clf&#x27;, SVC(random_state=1))]),\n",
       "             n_jobs=-1,\n",
       "             param_grid=[{&#x27;clf__C&#x27;: [0.0001, 0.001, 0.01, 0.1, 1, 10, 100,\n",
       "                                     1000],\n",
       "                          &#x27;clf__gamma&#x27;: [0.0001, 0.001, 0.01, 0.1, 1, 10, 100,\n",
       "                                         1000],\n",
       "                          &#x27;clf__kernel&#x27;: [&#x27;linear&#x27;]},\n",
       "                         {&#x27;clf__C&#x27;: [0.0001, 0.001, 0.01, 0.1, 1, 10, 100,\n",
       "                                     1000],\n",
       "                          &#x27;clf__gamma&#x27;: [0.0001, 0.001, 0.01, 0.1, 1, 10, 100,\n",
       "                                         1000],\n",
       "                          &#x27;clf__kernel&#x27;: [&#x27;poly&#x27;]},\n",
       "                         {&#x27;clf__C&#x27;: [0.0001, 0.001, 0.01, 0.1, 1, 10, 100,\n",
       "                                     1000],\n",
       "                          &#x27;clf__gamma&#x27;: [0.0001, 0.001, 0.01, 0.1, 1, 10, 100,\n",
       "                                         1000],\n",
       "                          &#x27;clf__kernel&#x27;: [&#x27;rbf&#x27;]}],\n",
       "             scoring=&#x27;f1&#x27;)</pre><b>In a Jupyter environment, please rerun this cell to show the HTML representation or trust the notebook. <br />On GitHub, the HTML representation is unable to render, please try loading this page with nbviewer.org.</b></div><div class=\"sk-container\" hidden><div class=\"sk-item sk-dashed-wrapped\"><div class=\"sk-label-container\"><div class=\"sk-label sk-toggleable\"><input class=\"sk-toggleable__control sk-hidden--visually\" id=\"sk-estimator-id-205\" type=\"checkbox\" ><label for=\"sk-estimator-id-205\" class=\"sk-toggleable__label sk-toggleable__label-arrow\">GridSearchCV</label><div class=\"sk-toggleable__content\"><pre>GridSearchCV(cv=10,\n",
       "             estimator=Pipeline(steps=[(&#x27;scl&#x27;, StandardScaler()),\n",
       "                                       (&#x27;pca&#x27;, PCA(n_components=0.9)),\n",
       "                                       (&#x27;clf&#x27;, SVC(random_state=1))]),\n",
       "             n_jobs=-1,\n",
       "             param_grid=[{&#x27;clf__C&#x27;: [0.0001, 0.001, 0.01, 0.1, 1, 10, 100,\n",
       "                                     1000],\n",
       "                          &#x27;clf__gamma&#x27;: [0.0001, 0.001, 0.01, 0.1, 1, 10, 100,\n",
       "                                         1000],\n",
       "                          &#x27;clf__kernel&#x27;: [&#x27;linear&#x27;]},\n",
       "                         {&#x27;clf__C&#x27;: [0.0001, 0.001, 0.01, 0.1, 1, 10, 100,\n",
       "                                     1000],\n",
       "                          &#x27;clf__gamma&#x27;: [0.0001, 0.001, 0.01, 0.1, 1, 10, 100,\n",
       "                                         1000],\n",
       "                          &#x27;clf__kernel&#x27;: [&#x27;poly&#x27;]},\n",
       "                         {&#x27;clf__C&#x27;: [0.0001, 0.001, 0.01, 0.1, 1, 10, 100,\n",
       "                                     1000],\n",
       "                          &#x27;clf__gamma&#x27;: [0.0001, 0.001, 0.01, 0.1, 1, 10, 100,\n",
       "                                         1000],\n",
       "                          &#x27;clf__kernel&#x27;: [&#x27;rbf&#x27;]}],\n",
       "             scoring=&#x27;f1&#x27;)</pre></div></div></div><div class=\"sk-parallel\"><div class=\"sk-parallel-item\"><div class=\"sk-item\"><div class=\"sk-label-container\"><div class=\"sk-label sk-toggleable\"><input class=\"sk-toggleable__control sk-hidden--visually\" id=\"sk-estimator-id-206\" type=\"checkbox\" ><label for=\"sk-estimator-id-206\" class=\"sk-toggleable__label sk-toggleable__label-arrow\">estimator: Pipeline</label><div class=\"sk-toggleable__content\"><pre>Pipeline(steps=[(&#x27;scl&#x27;, StandardScaler()), (&#x27;pca&#x27;, PCA(n_components=0.9)),\n",
       "                (&#x27;clf&#x27;, SVC(random_state=1))])</pre></div></div></div><div class=\"sk-serial\"><div class=\"sk-item\"><div class=\"sk-serial\"><div class=\"sk-item\"><div class=\"sk-estimator sk-toggleable\"><input class=\"sk-toggleable__control sk-hidden--visually\" id=\"sk-estimator-id-207\" type=\"checkbox\" ><label for=\"sk-estimator-id-207\" class=\"sk-toggleable__label sk-toggleable__label-arrow\">StandardScaler</label><div class=\"sk-toggleable__content\"><pre>StandardScaler()</pre></div></div></div><div class=\"sk-item\"><div class=\"sk-estimator sk-toggleable\"><input class=\"sk-toggleable__control sk-hidden--visually\" id=\"sk-estimator-id-208\" type=\"checkbox\" ><label for=\"sk-estimator-id-208\" class=\"sk-toggleable__label sk-toggleable__label-arrow\">PCA</label><div class=\"sk-toggleable__content\"><pre>PCA(n_components=0.9)</pre></div></div></div><div class=\"sk-item\"><div class=\"sk-estimator sk-toggleable\"><input class=\"sk-toggleable__control sk-hidden--visually\" id=\"sk-estimator-id-209\" type=\"checkbox\" ><label for=\"sk-estimator-id-209\" class=\"sk-toggleable__label sk-toggleable__label-arrow\">SVC</label><div class=\"sk-toggleable__content\"><pre>SVC(random_state=1)</pre></div></div></div></div></div></div></div></div></div></div></div></div>"
      ],
      "text/plain": [
       "GridSearchCV(cv=10,\n",
       "             estimator=Pipeline(steps=[('scl', StandardScaler()),\n",
       "                                       ('pca', PCA(n_components=0.9)),\n",
       "                                       ('clf', SVC(random_state=1))]),\n",
       "             n_jobs=-1,\n",
       "             param_grid=[{'clf__C': [0.0001, 0.001, 0.01, 0.1, 1, 10, 100,\n",
       "                                     1000],\n",
       "                          'clf__gamma': [0.0001, 0.001, 0.01, 0.1, 1, 10, 100,\n",
       "                                         1000],\n",
       "                          'clf__kernel': ['linear']},\n",
       "                         {'clf__C': [0.0001, 0.001, 0.01, 0.1, 1, 10, 100,\n",
       "                                     1000],\n",
       "                          'clf__gamma': [0.0001, 0.001, 0.01, 0.1, 1, 10, 100,\n",
       "                                         1000],\n",
       "                          'clf__kernel': ['poly']},\n",
       "                         {'clf__C': [0.0001, 0.001, 0.01, 0.1, 1, 10, 100,\n",
       "                                     1000],\n",
       "                          'clf__gamma': [0.0001, 0.001, 0.01, 0.1, 1, 10, 100,\n",
       "                                         1000],\n",
       "                          'clf__kernel': ['rbf']}],\n",
       "             scoring='f1')"
      ]
     },
     "execution_count": 196,
     "metadata": {},
     "output_type": "execute_result"
    }
   ],
   "source": [
    "gs = GridSearchCV(\n",
    "    estimator=pipe,\n",
    "    param_grid=param_grid,\n",
    "    cv=10,\n",
    "    scoring='f1',\n",
    "    n_jobs=-1\n",
    ")\n",
    "gs"
   ]
  },
  {
   "cell_type": "code",
   "execution_count": 197,
   "id": "66357847-b899-4e22-ab6b-41f8312c5f74",
   "metadata": {
    "tags": []
   },
   "outputs": [
    {
     "data": {
      "text/html": [
       "<style>#sk-container-id-44 {color: black;}#sk-container-id-44 pre{padding: 0;}#sk-container-id-44 div.sk-toggleable {background-color: white;}#sk-container-id-44 label.sk-toggleable__label {cursor: pointer;display: block;width: 100%;margin-bottom: 0;padding: 0.3em;box-sizing: border-box;text-align: center;}#sk-container-id-44 label.sk-toggleable__label-arrow:before {content: \"▸\";float: left;margin-right: 0.25em;color: #696969;}#sk-container-id-44 label.sk-toggleable__label-arrow:hover:before {color: black;}#sk-container-id-44 div.sk-estimator:hover label.sk-toggleable__label-arrow:before {color: black;}#sk-container-id-44 div.sk-toggleable__content {max-height: 0;max-width: 0;overflow: hidden;text-align: left;background-color: #f0f8ff;}#sk-container-id-44 div.sk-toggleable__content pre {margin: 0.2em;color: black;border-radius: 0.25em;background-color: #f0f8ff;}#sk-container-id-44 input.sk-toggleable__control:checked~div.sk-toggleable__content {max-height: 200px;max-width: 100%;overflow: auto;}#sk-container-id-44 input.sk-toggleable__control:checked~label.sk-toggleable__label-arrow:before {content: \"▾\";}#sk-container-id-44 div.sk-estimator input.sk-toggleable__control:checked~label.sk-toggleable__label {background-color: #d4ebff;}#sk-container-id-44 div.sk-label input.sk-toggleable__control:checked~label.sk-toggleable__label {background-color: #d4ebff;}#sk-container-id-44 input.sk-hidden--visually {border: 0;clip: rect(1px 1px 1px 1px);clip: rect(1px, 1px, 1px, 1px);height: 1px;margin: -1px;overflow: hidden;padding: 0;position: absolute;width: 1px;}#sk-container-id-44 div.sk-estimator {font-family: monospace;background-color: #f0f8ff;border: 1px dotted black;border-radius: 0.25em;box-sizing: border-box;margin-bottom: 0.5em;}#sk-container-id-44 div.sk-estimator:hover {background-color: #d4ebff;}#sk-container-id-44 div.sk-parallel-item::after {content: \"\";width: 100%;border-bottom: 1px solid gray;flex-grow: 1;}#sk-container-id-44 div.sk-label:hover label.sk-toggleable__label {background-color: #d4ebff;}#sk-container-id-44 div.sk-serial::before {content: \"\";position: absolute;border-left: 1px solid gray;box-sizing: border-box;top: 0;bottom: 0;left: 50%;z-index: 0;}#sk-container-id-44 div.sk-serial {display: flex;flex-direction: column;align-items: center;background-color: white;padding-right: 0.2em;padding-left: 0.2em;position: relative;}#sk-container-id-44 div.sk-item {position: relative;z-index: 1;}#sk-container-id-44 div.sk-parallel {display: flex;align-items: stretch;justify-content: center;background-color: white;position: relative;}#sk-container-id-44 div.sk-item::before, #sk-container-id-44 div.sk-parallel-item::before {content: \"\";position: absolute;border-left: 1px solid gray;box-sizing: border-box;top: 0;bottom: 0;left: 50%;z-index: -1;}#sk-container-id-44 div.sk-parallel-item {display: flex;flex-direction: column;z-index: 1;position: relative;background-color: white;}#sk-container-id-44 div.sk-parallel-item:first-child::after {align-self: flex-end;width: 50%;}#sk-container-id-44 div.sk-parallel-item:last-child::after {align-self: flex-start;width: 50%;}#sk-container-id-44 div.sk-parallel-item:only-child::after {width: 0;}#sk-container-id-44 div.sk-dashed-wrapped {border: 1px dashed gray;margin: 0 0.4em 0.5em 0.4em;box-sizing: border-box;padding-bottom: 0.4em;background-color: white;}#sk-container-id-44 div.sk-label label {font-family: monospace;font-weight: bold;display: inline-block;line-height: 1.2em;}#sk-container-id-44 div.sk-label-container {text-align: center;}#sk-container-id-44 div.sk-container {/* jupyter's `normalize.less` sets `[hidden] { display: none; }` but bootstrap.min.css set `[hidden] { display: none !important; }` so we also need the `!important` here to be able to override the default hidden behavior on the sphinx rendered scikit-learn.org. See: https://github.com/scikit-learn/scikit-learn/issues/21755 */display: inline-block !important;position: relative;}#sk-container-id-44 div.sk-text-repr-fallback {display: none;}</style><div id=\"sk-container-id-44\" class=\"sk-top-container\"><div class=\"sk-text-repr-fallback\"><pre>GridSearchCV(cv=10,\n",
       "             estimator=Pipeline(steps=[(&#x27;scl&#x27;, StandardScaler()),\n",
       "                                       (&#x27;pca&#x27;, PCA(n_components=0.9)),\n",
       "                                       (&#x27;clf&#x27;, SVC(random_state=1))]),\n",
       "             n_jobs=-1,\n",
       "             param_grid=[{&#x27;clf__C&#x27;: [0.0001, 0.001, 0.01, 0.1, 1, 10, 100,\n",
       "                                     1000],\n",
       "                          &#x27;clf__gamma&#x27;: [0.0001, 0.001, 0.01, 0.1, 1, 10, 100,\n",
       "                                         1000],\n",
       "                          &#x27;clf__kernel&#x27;: [&#x27;linear&#x27;]},\n",
       "                         {&#x27;clf__C&#x27;: [0.0001, 0.001, 0.01, 0.1, 1, 10, 100,\n",
       "                                     1000],\n",
       "                          &#x27;clf__gamma&#x27;: [0.0001, 0.001, 0.01, 0.1, 1, 10, 100,\n",
       "                                         1000],\n",
       "                          &#x27;clf__kernel&#x27;: [&#x27;poly&#x27;]},\n",
       "                         {&#x27;clf__C&#x27;: [0.0001, 0.001, 0.01, 0.1, 1, 10, 100,\n",
       "                                     1000],\n",
       "                          &#x27;clf__gamma&#x27;: [0.0001, 0.001, 0.01, 0.1, 1, 10, 100,\n",
       "                                         1000],\n",
       "                          &#x27;clf__kernel&#x27;: [&#x27;rbf&#x27;]}],\n",
       "             scoring=&#x27;f1&#x27;)</pre><b>In a Jupyter environment, please rerun this cell to show the HTML representation or trust the notebook. <br />On GitHub, the HTML representation is unable to render, please try loading this page with nbviewer.org.</b></div><div class=\"sk-container\" hidden><div class=\"sk-item sk-dashed-wrapped\"><div class=\"sk-label-container\"><div class=\"sk-label sk-toggleable\"><input class=\"sk-toggleable__control sk-hidden--visually\" id=\"sk-estimator-id-210\" type=\"checkbox\" ><label for=\"sk-estimator-id-210\" class=\"sk-toggleable__label sk-toggleable__label-arrow\">GridSearchCV</label><div class=\"sk-toggleable__content\"><pre>GridSearchCV(cv=10,\n",
       "             estimator=Pipeline(steps=[(&#x27;scl&#x27;, StandardScaler()),\n",
       "                                       (&#x27;pca&#x27;, PCA(n_components=0.9)),\n",
       "                                       (&#x27;clf&#x27;, SVC(random_state=1))]),\n",
       "             n_jobs=-1,\n",
       "             param_grid=[{&#x27;clf__C&#x27;: [0.0001, 0.001, 0.01, 0.1, 1, 10, 100,\n",
       "                                     1000],\n",
       "                          &#x27;clf__gamma&#x27;: [0.0001, 0.001, 0.01, 0.1, 1, 10, 100,\n",
       "                                         1000],\n",
       "                          &#x27;clf__kernel&#x27;: [&#x27;linear&#x27;]},\n",
       "                         {&#x27;clf__C&#x27;: [0.0001, 0.001, 0.01, 0.1, 1, 10, 100,\n",
       "                                     1000],\n",
       "                          &#x27;clf__gamma&#x27;: [0.0001, 0.001, 0.01, 0.1, 1, 10, 100,\n",
       "                                         1000],\n",
       "                          &#x27;clf__kernel&#x27;: [&#x27;poly&#x27;]},\n",
       "                         {&#x27;clf__C&#x27;: [0.0001, 0.001, 0.01, 0.1, 1, 10, 100,\n",
       "                                     1000],\n",
       "                          &#x27;clf__gamma&#x27;: [0.0001, 0.001, 0.01, 0.1, 1, 10, 100,\n",
       "                                         1000],\n",
       "                          &#x27;clf__kernel&#x27;: [&#x27;rbf&#x27;]}],\n",
       "             scoring=&#x27;f1&#x27;)</pre></div></div></div><div class=\"sk-parallel\"><div class=\"sk-parallel-item\"><div class=\"sk-item\"><div class=\"sk-label-container\"><div class=\"sk-label sk-toggleable\"><input class=\"sk-toggleable__control sk-hidden--visually\" id=\"sk-estimator-id-211\" type=\"checkbox\" ><label for=\"sk-estimator-id-211\" class=\"sk-toggleable__label sk-toggleable__label-arrow\">estimator: Pipeline</label><div class=\"sk-toggleable__content\"><pre>Pipeline(steps=[(&#x27;scl&#x27;, StandardScaler()), (&#x27;pca&#x27;, PCA(n_components=0.9)),\n",
       "                (&#x27;clf&#x27;, SVC(random_state=1))])</pre></div></div></div><div class=\"sk-serial\"><div class=\"sk-item\"><div class=\"sk-serial\"><div class=\"sk-item\"><div class=\"sk-estimator sk-toggleable\"><input class=\"sk-toggleable__control sk-hidden--visually\" id=\"sk-estimator-id-212\" type=\"checkbox\" ><label for=\"sk-estimator-id-212\" class=\"sk-toggleable__label sk-toggleable__label-arrow\">StandardScaler</label><div class=\"sk-toggleable__content\"><pre>StandardScaler()</pre></div></div></div><div class=\"sk-item\"><div class=\"sk-estimator sk-toggleable\"><input class=\"sk-toggleable__control sk-hidden--visually\" id=\"sk-estimator-id-213\" type=\"checkbox\" ><label for=\"sk-estimator-id-213\" class=\"sk-toggleable__label sk-toggleable__label-arrow\">PCA</label><div class=\"sk-toggleable__content\"><pre>PCA(n_components=0.9)</pre></div></div></div><div class=\"sk-item\"><div class=\"sk-estimator sk-toggleable\"><input class=\"sk-toggleable__control sk-hidden--visually\" id=\"sk-estimator-id-214\" type=\"checkbox\" ><label for=\"sk-estimator-id-214\" class=\"sk-toggleable__label sk-toggleable__label-arrow\">SVC</label><div class=\"sk-toggleable__content\"><pre>SVC(random_state=1)</pre></div></div></div></div></div></div></div></div></div></div></div></div>"
      ],
      "text/plain": [
       "GridSearchCV(cv=10,\n",
       "             estimator=Pipeline(steps=[('scl', StandardScaler()),\n",
       "                                       ('pca', PCA(n_components=0.9)),\n",
       "                                       ('clf', SVC(random_state=1))]),\n",
       "             n_jobs=-1,\n",
       "             param_grid=[{'clf__C': [0.0001, 0.001, 0.01, 0.1, 1, 10, 100,\n",
       "                                     1000],\n",
       "                          'clf__gamma': [0.0001, 0.001, 0.01, 0.1, 1, 10, 100,\n",
       "                                         1000],\n",
       "                          'clf__kernel': ['linear']},\n",
       "                         {'clf__C': [0.0001, 0.001, 0.01, 0.1, 1, 10, 100,\n",
       "                                     1000],\n",
       "                          'clf__gamma': [0.0001, 0.001, 0.01, 0.1, 1, 10, 100,\n",
       "                                         1000],\n",
       "                          'clf__kernel': ['poly']},\n",
       "                         {'clf__C': [0.0001, 0.001, 0.01, 0.1, 1, 10, 100,\n",
       "                                     1000],\n",
       "                          'clf__gamma': [0.0001, 0.001, 0.01, 0.1, 1, 10, 100,\n",
       "                                         1000],\n",
       "                          'clf__kernel': ['rbf']}],\n",
       "             scoring='f1')"
      ]
     },
     "execution_count": 197,
     "metadata": {},
     "output_type": "execute_result"
    }
   ],
   "source": [
    "## fitting model\n",
    "gs.fit(X_train, y_train)"
   ]
  },
  {
   "cell_type": "code",
   "execution_count": 198,
   "id": "383d0b2d-90bf-4f77-a21b-04bad84955d4",
   "metadata": {
    "tags": []
   },
   "outputs": [
    {
     "name": "stdout",
     "output_type": "stream",
     "text": [
      "Best F1 score = 0.9930419268510258\n",
      "Best hyperparameter = {'clf__C': 0.0001, 'clf__gamma': 10, 'clf__kernel': 'poly'}\n"
     ]
    }
   ],
   "source": [
    "## Best Score and hyper parameter\n",
    "print(f'Best F1 score = {gs.best_score_}')\n",
    "print(f'Best hyperparameter = {gs.best_params_}')"
   ]
  },
  {
   "cell_type": "code",
   "execution_count": 199,
   "id": "7e129bb1-8c92-496c-bf2f-e8119d8ccfd7",
   "metadata": {
    "tags": []
   },
   "outputs": [
    {
     "data": {
      "text/html": [
       "<div>\n",
       "<style scoped>\n",
       "    .dataframe tbody tr th:only-of-type {\n",
       "        vertical-align: middle;\n",
       "    }\n",
       "\n",
       "    .dataframe tbody tr th {\n",
       "        vertical-align: top;\n",
       "    }\n",
       "\n",
       "    .dataframe thead th {\n",
       "        text-align: right;\n",
       "    }\n",
       "</style>\n",
       "<table border=\"1\" class=\"dataframe\">\n",
       "  <thead>\n",
       "    <tr style=\"text-align: right;\">\n",
       "      <th></th>\n",
       "      <th>mean_fit_time</th>\n",
       "      <th>std_fit_time</th>\n",
       "      <th>mean_score_time</th>\n",
       "      <th>std_score_time</th>\n",
       "      <th>param_clf__C</th>\n",
       "      <th>param_clf__gamma</th>\n",
       "      <th>param_clf__kernel</th>\n",
       "      <th>params</th>\n",
       "      <th>split0_test_score</th>\n",
       "      <th>split1_test_score</th>\n",
       "      <th>...</th>\n",
       "      <th>split3_test_score</th>\n",
       "      <th>split4_test_score</th>\n",
       "      <th>split5_test_score</th>\n",
       "      <th>split6_test_score</th>\n",
       "      <th>split7_test_score</th>\n",
       "      <th>split8_test_score</th>\n",
       "      <th>split9_test_score</th>\n",
       "      <th>mean_test_score</th>\n",
       "      <th>std_test_score</th>\n",
       "      <th>rank_test_score</th>\n",
       "    </tr>\n",
       "  </thead>\n",
       "  <tbody>\n",
       "    <tr>\n",
       "      <th>95</th>\n",
       "      <td>0.003037</td>\n",
       "      <td>0.001770</td>\n",
       "      <td>0.002698</td>\n",
       "      <td>0.002865</td>\n",
       "      <td>0.1</td>\n",
       "      <td>1000</td>\n",
       "      <td>poly</td>\n",
       "      <td>{'clf__C': 0.1, 'clf__gamma': 1000, 'clf__kern...</td>\n",
       "      <td>1.0</td>\n",
       "      <td>0.983051</td>\n",
       "      <td>...</td>\n",
       "      <td>1.0</td>\n",
       "      <td>1.0</td>\n",
       "      <td>0.982456</td>\n",
       "      <td>0.982456</td>\n",
       "      <td>0.982456</td>\n",
       "      <td>1.0</td>\n",
       "      <td>1.0</td>\n",
       "      <td>0.993042</td>\n",
       "      <td>0.008523</td>\n",
       "      <td>1</td>\n",
       "    </tr>\n",
       "    <tr>\n",
       "      <th>109</th>\n",
       "      <td>0.003145</td>\n",
       "      <td>0.002994</td>\n",
       "      <td>0.001774</td>\n",
       "      <td>0.001072</td>\n",
       "      <td>10</td>\n",
       "      <td>10</td>\n",
       "      <td>poly</td>\n",
       "      <td>{'clf__C': 10, 'clf__gamma': 10, 'clf__kernel'...</td>\n",
       "      <td>1.0</td>\n",
       "      <td>0.983051</td>\n",
       "      <td>...</td>\n",
       "      <td>1.0</td>\n",
       "      <td>1.0</td>\n",
       "      <td>0.982456</td>\n",
       "      <td>0.982456</td>\n",
       "      <td>0.982456</td>\n",
       "      <td>1.0</td>\n",
       "      <td>1.0</td>\n",
       "      <td>0.993042</td>\n",
       "      <td>0.008523</td>\n",
       "      <td>1</td>\n",
       "    </tr>\n",
       "    <tr>\n",
       "      <th>108</th>\n",
       "      <td>0.002254</td>\n",
       "      <td>0.000546</td>\n",
       "      <td>0.001168</td>\n",
       "      <td>0.000204</td>\n",
       "      <td>10</td>\n",
       "      <td>1</td>\n",
       "      <td>poly</td>\n",
       "      <td>{'clf__C': 10, 'clf__gamma': 1, 'clf__kernel':...</td>\n",
       "      <td>1.0</td>\n",
       "      <td>0.983051</td>\n",
       "      <td>...</td>\n",
       "      <td>1.0</td>\n",
       "      <td>1.0</td>\n",
       "      <td>0.982456</td>\n",
       "      <td>0.982456</td>\n",
       "      <td>0.982456</td>\n",
       "      <td>1.0</td>\n",
       "      <td>1.0</td>\n",
       "      <td>0.993042</td>\n",
       "      <td>0.008523</td>\n",
       "      <td>1</td>\n",
       "    </tr>\n",
       "    <tr>\n",
       "      <th>107</th>\n",
       "      <td>0.004127</td>\n",
       "      <td>0.002611</td>\n",
       "      <td>0.002072</td>\n",
       "      <td>0.001564</td>\n",
       "      <td>10</td>\n",
       "      <td>0.1</td>\n",
       "      <td>poly</td>\n",
       "      <td>{'clf__C': 10, 'clf__gamma': 0.1, 'clf__kernel...</td>\n",
       "      <td>1.0</td>\n",
       "      <td>0.983051</td>\n",
       "      <td>...</td>\n",
       "      <td>1.0</td>\n",
       "      <td>1.0</td>\n",
       "      <td>0.982456</td>\n",
       "      <td>0.982456</td>\n",
       "      <td>0.982456</td>\n",
       "      <td>1.0</td>\n",
       "      <td>1.0</td>\n",
       "      <td>0.993042</td>\n",
       "      <td>0.008523</td>\n",
       "      <td>1</td>\n",
       "    </tr>\n",
       "    <tr>\n",
       "      <th>103</th>\n",
       "      <td>0.003130</td>\n",
       "      <td>0.001761</td>\n",
       "      <td>0.002077</td>\n",
       "      <td>0.001342</td>\n",
       "      <td>1</td>\n",
       "      <td>1000</td>\n",
       "      <td>poly</td>\n",
       "      <td>{'clf__C': 1, 'clf__gamma': 1000, 'clf__kernel...</td>\n",
       "      <td>1.0</td>\n",
       "      <td>0.983051</td>\n",
       "      <td>...</td>\n",
       "      <td>1.0</td>\n",
       "      <td>1.0</td>\n",
       "      <td>0.982456</td>\n",
       "      <td>0.982456</td>\n",
       "      <td>0.982456</td>\n",
       "      <td>1.0</td>\n",
       "      <td>1.0</td>\n",
       "      <td>0.993042</td>\n",
       "      <td>0.008523</td>\n",
       "      <td>1</td>\n",
       "    </tr>\n",
       "  </tbody>\n",
       "</table>\n",
       "<p>5 rows × 21 columns</p>\n",
       "</div>"
      ],
      "text/plain": [
       "     mean_fit_time  std_fit_time  mean_score_time  std_score_time  \\\n",
       "95        0.003037      0.001770         0.002698        0.002865   \n",
       "109       0.003145      0.002994         0.001774        0.001072   \n",
       "108       0.002254      0.000546         0.001168        0.000204   \n",
       "107       0.004127      0.002611         0.002072        0.001564   \n",
       "103       0.003130      0.001761         0.002077        0.001342   \n",
       "\n",
       "    param_clf__C param_clf__gamma param_clf__kernel  \\\n",
       "95           0.1             1000              poly   \n",
       "109           10               10              poly   \n",
       "108           10                1              poly   \n",
       "107           10              0.1              poly   \n",
       "103            1             1000              poly   \n",
       "\n",
       "                                                params  split0_test_score  \\\n",
       "95   {'clf__C': 0.1, 'clf__gamma': 1000, 'clf__kern...                1.0   \n",
       "109  {'clf__C': 10, 'clf__gamma': 10, 'clf__kernel'...                1.0   \n",
       "108  {'clf__C': 10, 'clf__gamma': 1, 'clf__kernel':...                1.0   \n",
       "107  {'clf__C': 10, 'clf__gamma': 0.1, 'clf__kernel...                1.0   \n",
       "103  {'clf__C': 1, 'clf__gamma': 1000, 'clf__kernel...                1.0   \n",
       "\n",
       "     split1_test_score  ...  split3_test_score  split4_test_score  \\\n",
       "95            0.983051  ...                1.0                1.0   \n",
       "109           0.983051  ...                1.0                1.0   \n",
       "108           0.983051  ...                1.0                1.0   \n",
       "107           0.983051  ...                1.0                1.0   \n",
       "103           0.983051  ...                1.0                1.0   \n",
       "\n",
       "     split5_test_score  split6_test_score  split7_test_score  \\\n",
       "95            0.982456           0.982456           0.982456   \n",
       "109           0.982456           0.982456           0.982456   \n",
       "108           0.982456           0.982456           0.982456   \n",
       "107           0.982456           0.982456           0.982456   \n",
       "103           0.982456           0.982456           0.982456   \n",
       "\n",
       "     split8_test_score  split9_test_score  mean_test_score  std_test_score  \\\n",
       "95                 1.0                1.0         0.993042        0.008523   \n",
       "109                1.0                1.0         0.993042        0.008523   \n",
       "108                1.0                1.0         0.993042        0.008523   \n",
       "107                1.0                1.0         0.993042        0.008523   \n",
       "103                1.0                1.0         0.993042        0.008523   \n",
       "\n",
       "     rank_test_score  \n",
       "95                 1  \n",
       "109                1  \n",
       "108                1  \n",
       "107                1  \n",
       "103                1  \n",
       "\n",
       "[5 rows x 21 columns]"
      ]
     },
     "execution_count": 199,
     "metadata": {},
     "output_type": "execute_result"
    }
   ],
   "source": [
    "re = pd.DataFrame(gs.cv_results_)\n",
    "re.sort_values('rank_test_score').head()"
   ]
  },
  {
   "cell_type": "code",
   "execution_count": 200,
   "id": "44cc1f30-3c94-48ef-ba90-a4b544ad5269",
   "metadata": {
    "tags": []
   },
   "outputs": [
    {
     "name": "stdout",
     "output_type": "stream",
     "text": [
      "refitting model = True\n"
     ]
    }
   ],
   "source": [
    "## refitting model\n",
    "print(f'refitting model = {gs.refit}')"
   ]
  },
  {
   "cell_type": "markdown",
   "id": "78d3369f-e13a-43aa-8297-601c09325fcc",
   "metadata": {},
   "source": [
    "# Evaluation metric"
   ]
  },
  {
   "cell_type": "code",
   "execution_count": 201,
   "id": "0cb9630a-76a6-4bcf-893c-9296ff97dab6",
   "metadata": {
    "tags": []
   },
   "outputs": [
    {
     "data": {
      "image/png": "[encoded data removed]",
      "text/plain": [
       "<Figure size 640x480 with 2 Axes>"
      ]
     },
     "metadata": {},
     "output_type": "display_data"
    }
   ],
   "source": [
    "## confusion metrix\n",
    "y_pred = gs.predict(X_test)\n",
    "cm = metrics.confusion_matrix(y_test, y_pred)\n",
    "fig = metrics.ConfusionMatrixDisplay(cm)\n",
    "fig.plot();"
   ]
  },
  {
   "cell_type": "code",
   "execution_count": 202,
   "id": "ed6ec5c0-bf18-4cfa-a429-35ddad9c9d2b",
   "metadata": {
    "tags": []
   },
   "outputs": [
    {
     "name": "stdout",
     "output_type": "stream",
     "text": [
      "              precision    recall  f1-score   support\n",
      "\n",
      "           0       0.67      0.50      0.57         4\n",
      "           1       0.97      0.99      0.98        72\n",
      "\n",
      "    accuracy                           0.96        76\n",
      "   macro avg       0.82      0.74      0.78        76\n",
      "weighted avg       0.96      0.96      0.96        76\n",
      "\n"
     ]
    }
   ],
   "source": [
    "## Classification report\n",
    "print(metrics.classification_report(y_test, y_pred))"
   ]
  },
  {
   "cell_type": "markdown",
   "id": "fe21019e-0414-491a-a3f3-21bdefccb464",
   "metadata": {},
   "source": [
    "# Using grid search for optimizing recall score"
   ]
  },
  {
   "cell_type": "code",
   "execution_count": 203,
   "id": "6d1b22ad-472c-4a20-a197-32e1791eda85",
   "metadata": {
    "tags": []
   },
   "outputs": [],
   "source": [
    "params_range = [.0001, .001, .01, .1, 1, 10, 100, 1000]\n",
    "\n",
    "set1 = {\n",
    "    'clf__C' : params_range,\n",
    "    'clf__gamma' : params_range,\n",
    "    'clf__kernel' : ['linear']\n",
    "}\n",
    "\n",
    "set2 = {\n",
    "    'clf__C' : params_range,\n",
    "    'clf__gamma' : params_range,\n",
    "    'clf__kernel' : ['poly']\n",
    "}\n",
    "\n",
    "set3 = {\n",
    "    'clf__C' : params_range,\n",
    "    'clf__gamma' : params_range,\n",
    "    'clf__kernel' : ['rbf']\n",
    "}\n",
    "\n",
    "param_grid = [set1, set2, set3]"
   ]
  },
  {
   "cell_type": "code",
   "execution_count": 204,
   "id": "e7b34390-1f59-489d-9616-8c669d70968d",
   "metadata": {
    "tags": []
   },
   "outputs": [
    {
     "data": {
      "text/html": [
       "<style>#sk-container-id-45 {color: black;}#sk-container-id-45 pre{padding: 0;}#sk-container-id-45 div.sk-toggleable {background-color: white;}#sk-container-id-45 label.sk-toggleable__label {cursor: pointer;display: block;width: 100%;margin-bottom: 0;padding: 0.3em;box-sizing: border-box;text-align: center;}#sk-container-id-45 label.sk-toggleable__label-arrow:before {content: \"▸\";float: left;margin-right: 0.25em;color: #696969;}#sk-container-id-45 label.sk-toggleable__label-arrow:hover:before {color: black;}#sk-container-id-45 div.sk-estimator:hover label.sk-toggleable__label-arrow:before {color: black;}#sk-container-id-45 div.sk-toggleable__content {max-height: 0;max-width: 0;overflow: hidden;text-align: left;background-color: #f0f8ff;}#sk-container-id-45 div.sk-toggleable__content pre {margin: 0.2em;color: black;border-radius: 0.25em;background-color: #f0f8ff;}#sk-container-id-45 input.sk-toggleable__control:checked~div.sk-toggleable__content {max-height: 200px;max-width: 100%;overflow: auto;}#sk-container-id-45 input.sk-toggleable__control:checked~label.sk-toggleable__label-arrow:before {content: \"▾\";}#sk-container-id-45 div.sk-estimator input.sk-toggleable__control:checked~label.sk-toggleable__label {background-color: #d4ebff;}#sk-container-id-45 div.sk-label input.sk-toggleable__control:checked~label.sk-toggleable__label {background-color: #d4ebff;}#sk-container-id-45 input.sk-hidden--visually {border: 0;clip: rect(1px 1px 1px 1px);clip: rect(1px, 1px, 1px, 1px);height: 1px;margin: -1px;overflow: hidden;padding: 0;position: absolute;width: 1px;}#sk-container-id-45 div.sk-estimator {font-family: monospace;background-color: #f0f8ff;border: 1px dotted black;border-radius: 0.25em;box-sizing: border-box;margin-bottom: 0.5em;}#sk-container-id-45 div.sk-estimator:hover {background-color: #d4ebff;}#sk-container-id-45 div.sk-parallel-item::after {content: \"\";width: 100%;border-bottom: 1px solid gray;flex-grow: 1;}#sk-container-id-45 div.sk-label:hover label.sk-toggleable__label {background-color: #d4ebff;}#sk-container-id-45 div.sk-serial::before {content: \"\";position: absolute;border-left: 1px solid gray;box-sizing: border-box;top: 0;bottom: 0;left: 50%;z-index: 0;}#sk-container-id-45 div.sk-serial {display: flex;flex-direction: column;align-items: center;background-color: white;padding-right: 0.2em;padding-left: 0.2em;position: relative;}#sk-container-id-45 div.sk-item {position: relative;z-index: 1;}#sk-container-id-45 div.sk-parallel {display: flex;align-items: stretch;justify-content: center;background-color: white;position: relative;}#sk-container-id-45 div.sk-item::before, #sk-container-id-45 div.sk-parallel-item::before {content: \"\";position: absolute;border-left: 1px solid gray;box-sizing: border-box;top: 0;bottom: 0;left: 50%;z-index: -1;}#sk-container-id-45 div.sk-parallel-item {display: flex;flex-direction: column;z-index: 1;position: relative;background-color: white;}#sk-container-id-45 div.sk-parallel-item:first-child::after {align-self: flex-end;width: 50%;}#sk-container-id-45 div.sk-parallel-item:last-child::after {align-self: flex-start;width: 50%;}#sk-container-id-45 div.sk-parallel-item:only-child::after {width: 0;}#sk-container-id-45 div.sk-dashed-wrapped {border: 1px dashed gray;margin: 0 0.4em 0.5em 0.4em;box-sizing: border-box;padding-bottom: 0.4em;background-color: white;}#sk-container-id-45 div.sk-label label {font-family: monospace;font-weight: bold;display: inline-block;line-height: 1.2em;}#sk-container-id-45 div.sk-label-container {text-align: center;}#sk-container-id-45 div.sk-container {/* jupyter's `normalize.less` sets `[hidden] { display: none; }` but bootstrap.min.css set `[hidden] { display: none !important; }` so we also need the `!important` here to be able to override the default hidden behavior on the sphinx rendered scikit-learn.org. See: https://github.com/scikit-learn/scikit-learn/issues/21755 */display: inline-block !important;position: relative;}#sk-container-id-45 div.sk-text-repr-fallback {display: none;}</style><div id=\"sk-container-id-45\" class=\"sk-top-container\"><div class=\"sk-text-repr-fallback\"><pre>GridSearchCV(cv=10,\n",
       "             estimator=Pipeline(steps=[(&#x27;scl&#x27;, StandardScaler()),\n",
       "                                       (&#x27;pca&#x27;, PCA(n_components=0.9)),\n",
       "                                       (&#x27;clf&#x27;, SVC(random_state=1))]),\n",
       "             n_jobs=-1,\n",
       "             param_grid=[{&#x27;clf__C&#x27;: [0.0001, 0.001, 0.01, 0.1, 1, 10, 100,\n",
       "                                     1000],\n",
       "                          &#x27;clf__gamma&#x27;: [0.0001, 0.001, 0.01, 0.1, 1, 10, 100,\n",
       "                                         1000],\n",
       "                          &#x27;clf__kernel&#x27;: [&#x27;linear&#x27;]},\n",
       "                         {&#x27;clf__C&#x27;: [0.0001, 0.001, 0.01, 0.1, 1, 10, 100,\n",
       "                                     1000],\n",
       "                          &#x27;clf__gamma&#x27;: [0.0001, 0.001, 0.01, 0.1, 1, 10, 100,\n",
       "                                         1000],\n",
       "                          &#x27;clf__kernel&#x27;: [&#x27;poly&#x27;]},\n",
       "                         {&#x27;clf__C&#x27;: [0.0001, 0.001, 0.01, 0.1, 1, 10, 100,\n",
       "                                     1000],\n",
       "                          &#x27;clf__gamma&#x27;: [0.0001, 0.001, 0.01, 0.1, 1, 10, 100,\n",
       "                                         1000],\n",
       "                          &#x27;clf__kernel&#x27;: [&#x27;rbf&#x27;]}],\n",
       "             scoring=make_scorer(recall_score, pos_label=0))</pre><b>In a Jupyter environment, please rerun this cell to show the HTML representation or trust the notebook. <br />On GitHub, the HTML representation is unable to render, please try loading this page with nbviewer.org.</b></div><div class=\"sk-container\" hidden><div class=\"sk-item sk-dashed-wrapped\"><div class=\"sk-label-container\"><div class=\"sk-label sk-toggleable\"><input class=\"sk-toggleable__control sk-hidden--visually\" id=\"sk-estimator-id-215\" type=\"checkbox\" ><label for=\"sk-estimator-id-215\" class=\"sk-toggleable__label sk-toggleable__label-arrow\">GridSearchCV</label><div class=\"sk-toggleable__content\"><pre>GridSearchCV(cv=10,\n",
       "             estimator=Pipeline(steps=[(&#x27;scl&#x27;, StandardScaler()),\n",
       "                                       (&#x27;pca&#x27;, PCA(n_components=0.9)),\n",
       "                                       (&#x27;clf&#x27;, SVC(random_state=1))]),\n",
       "             n_jobs=-1,\n",
       "             param_grid=[{&#x27;clf__C&#x27;: [0.0001, 0.001, 0.01, 0.1, 1, 10, 100,\n",
       "                                     1000],\n",
       "                          &#x27;clf__gamma&#x27;: [0.0001, 0.001, 0.01, 0.1, 1, 10, 100,\n",
       "                                         1000],\n",
       "                          &#x27;clf__kernel&#x27;: [&#x27;linear&#x27;]},\n",
       "                         {&#x27;clf__C&#x27;: [0.0001, 0.001, 0.01, 0.1, 1, 10, 100,\n",
       "                                     1000],\n",
       "                          &#x27;clf__gamma&#x27;: [0.0001, 0.001, 0.01, 0.1, 1, 10, 100,\n",
       "                                         1000],\n",
       "                          &#x27;clf__kernel&#x27;: [&#x27;poly&#x27;]},\n",
       "                         {&#x27;clf__C&#x27;: [0.0001, 0.001, 0.01, 0.1, 1, 10, 100,\n",
       "                                     1000],\n",
       "                          &#x27;clf__gamma&#x27;: [0.0001, 0.001, 0.01, 0.1, 1, 10, 100,\n",
       "                                         1000],\n",
       "                          &#x27;clf__kernel&#x27;: [&#x27;rbf&#x27;]}],\n",
       "             scoring=make_scorer(recall_score, pos_label=0))</pre></div></div></div><div class=\"sk-parallel\"><div class=\"sk-parallel-item\"><div class=\"sk-item\"><div class=\"sk-label-container\"><div class=\"sk-label sk-toggleable\"><input class=\"sk-toggleable__control sk-hidden--visually\" id=\"sk-estimator-id-216\" type=\"checkbox\" ><label for=\"sk-estimator-id-216\" class=\"sk-toggleable__label sk-toggleable__label-arrow\">estimator: Pipeline</label><div class=\"sk-toggleable__content\"><pre>Pipeline(steps=[(&#x27;scl&#x27;, StandardScaler()), (&#x27;pca&#x27;, PCA(n_components=0.9)),\n",
       "                (&#x27;clf&#x27;, SVC(random_state=1))])</pre></div></div></div><div class=\"sk-serial\"><div class=\"sk-item\"><div class=\"sk-serial\"><div class=\"sk-item\"><div class=\"sk-estimator sk-toggleable\"><input class=\"sk-toggleable__control sk-hidden--visually\" id=\"sk-estimator-id-217\" type=\"checkbox\" ><label for=\"sk-estimator-id-217\" class=\"sk-toggleable__label sk-toggleable__label-arrow\">StandardScaler</label><div class=\"sk-toggleable__content\"><pre>StandardScaler()</pre></div></div></div><div class=\"sk-item\"><div class=\"sk-estimator sk-toggleable\"><input class=\"sk-toggleable__control sk-hidden--visually\" id=\"sk-estimator-id-218\" type=\"checkbox\" ><label for=\"sk-estimator-id-218\" class=\"sk-toggleable__label sk-toggleable__label-arrow\">PCA</label><div class=\"sk-toggleable__content\"><pre>PCA(n_components=0.9)</pre></div></div></div><div class=\"sk-item\"><div class=\"sk-estimator sk-toggleable\"><input class=\"sk-toggleable__control sk-hidden--visually\" id=\"sk-estimator-id-219\" type=\"checkbox\" ><label for=\"sk-estimator-id-219\" class=\"sk-toggleable__label sk-toggleable__label-arrow\">SVC</label><div class=\"sk-toggleable__content\"><pre>SVC(random_state=1)</pre></div></div></div></div></div></div></div></div></div></div></div></div>"
      ],
      "text/plain": [
       "GridSearchCV(cv=10,\n",
       "             estimator=Pipeline(steps=[('scl', StandardScaler()),\n",
       "                                       ('pca', PCA(n_components=0.9)),\n",
       "                                       ('clf', SVC(random_state=1))]),\n",
       "             n_jobs=-1,\n",
       "             param_grid=[{'clf__C': [0.0001, 0.001, 0.01, 0.1, 1, 10, 100,\n",
       "                                     1000],\n",
       "                          'clf__gamma': [0.0001, 0.001, 0.01, 0.1, 1, 10, 100,\n",
       "                                         1000],\n",
       "                          'clf__kernel': ['linear']},\n",
       "                         {'clf__C': [0.0001, 0.001, 0.01, 0.1, 1, 10, 100,\n",
       "                                     1000],\n",
       "                          'clf__gamma': [0.0001, 0.001, 0.01, 0.1, 1, 10, 100,\n",
       "                                         1000],\n",
       "                          'clf__kernel': ['poly']},\n",
       "                         {'clf__C': [0.0001, 0.001, 0.01, 0.1, 1, 10, 100,\n",
       "                                     1000],\n",
       "                          'clf__gamma': [0.0001, 0.001, 0.01, 0.1, 1, 10, 100,\n",
       "                                         1000],\n",
       "                          'clf__kernel': ['rbf']}],\n",
       "             scoring=make_scorer(recall_score, pos_label=0))"
      ]
     },
     "execution_count": 204,
     "metadata": {},
     "output_type": "execute_result"
    }
   ],
   "source": [
    "## changing scoring metric in grid Search\n",
    "## and changing target label\n",
    "from sklearn.metrics import make_scorer\n",
    "\n",
    "scorer = make_scorer(metrics.recall_score, pos_label=0)\n",
    "\n",
    "gs = GridSearchCV(\n",
    "    estimator=pipe,\n",
    "    param_grid=param_grid,\n",
    "    cv=10,\n",
    "    n_jobs=-1,\n",
    "    #changing target label\n",
    "    scoring=scorer\n",
    ")\n",
    "gs"
   ]
  },
  {
   "cell_type": "code",
   "execution_count": 205,
   "id": "f94bef73-19d6-46e9-b7dd-0679755bdf44",
   "metadata": {
    "tags": []
   },
   "outputs": [
    {
     "data": {
      "text/html": [
       "<style>#sk-container-id-46 {color: black;}#sk-container-id-46 pre{padding: 0;}#sk-container-id-46 div.sk-toggleable {background-color: white;}#sk-container-id-46 label.sk-toggleable__label {cursor: pointer;display: block;width: 100%;margin-bottom: 0;padding: 0.3em;box-sizing: border-box;text-align: center;}#sk-container-id-46 label.sk-toggleable__label-arrow:before {content: \"▸\";float: left;margin-right: 0.25em;color: #696969;}#sk-container-id-46 label.sk-toggleable__label-arrow:hover:before {color: black;}#sk-container-id-46 div.sk-estimator:hover label.sk-toggleable__label-arrow:before {color: black;}#sk-container-id-46 div.sk-toggleable__content {max-height: 0;max-width: 0;overflow: hidden;text-align: left;background-color: #f0f8ff;}#sk-container-id-46 div.sk-toggleable__content pre {margin: 0.2em;color: black;border-radius: 0.25em;background-color: #f0f8ff;}#sk-container-id-46 input.sk-toggleable__control:checked~div.sk-toggleable__content {max-height: 200px;max-width: 100%;overflow: auto;}#sk-container-id-46 input.sk-toggleable__control:checked~label.sk-toggleable__label-arrow:before {content: \"▾\";}#sk-container-id-46 div.sk-estimator input.sk-toggleable__control:checked~label.sk-toggleable__label {background-color: #d4ebff;}#sk-container-id-46 div.sk-label input.sk-toggleable__control:checked~label.sk-toggleable__label {background-color: #d4ebff;}#sk-container-id-46 input.sk-hidden--visually {border: 0;clip: rect(1px 1px 1px 1px);clip: rect(1px, 1px, 1px, 1px);height: 1px;margin: -1px;overflow: hidden;padding: 0;position: absolute;width: 1px;}#sk-container-id-46 div.sk-estimator {font-family: monospace;background-color: #f0f8ff;border: 1px dotted black;border-radius: 0.25em;box-sizing: border-box;margin-bottom: 0.5em;}#sk-container-id-46 div.sk-estimator:hover {background-color: #d4ebff;}#sk-container-id-46 div.sk-parallel-item::after {content: \"\";width: 100%;border-bottom: 1px solid gray;flex-grow: 1;}#sk-container-id-46 div.sk-label:hover label.sk-toggleable__label {background-color: #d4ebff;}#sk-container-id-46 div.sk-serial::before {content: \"\";position: absolute;border-left: 1px solid gray;box-sizing: border-box;top: 0;bottom: 0;left: 50%;z-index: 0;}#sk-container-id-46 div.sk-serial {display: flex;flex-direction: column;align-items: center;background-color: white;padding-right: 0.2em;padding-left: 0.2em;position: relative;}#sk-container-id-46 div.sk-item {position: relative;z-index: 1;}#sk-container-id-46 div.sk-parallel {display: flex;align-items: stretch;justify-content: center;background-color: white;position: relative;}#sk-container-id-46 div.sk-item::before, #sk-container-id-46 div.sk-parallel-item::before {content: \"\";position: absolute;border-left: 1px solid gray;box-sizing: border-box;top: 0;bottom: 0;left: 50%;z-index: -1;}#sk-container-id-46 div.sk-parallel-item {display: flex;flex-direction: column;z-index: 1;position: relative;background-color: white;}#sk-container-id-46 div.sk-parallel-item:first-child::after {align-self: flex-end;width: 50%;}#sk-container-id-46 div.sk-parallel-item:last-child::after {align-self: flex-start;width: 50%;}#sk-container-id-46 div.sk-parallel-item:only-child::after {width: 0;}#sk-container-id-46 div.sk-dashed-wrapped {border: 1px dashed gray;margin: 0 0.4em 0.5em 0.4em;box-sizing: border-box;padding-bottom: 0.4em;background-color: white;}#sk-container-id-46 div.sk-label label {font-family: monospace;font-weight: bold;display: inline-block;line-height: 1.2em;}#sk-container-id-46 div.sk-label-container {text-align: center;}#sk-container-id-46 div.sk-container {/* jupyter's `normalize.less` sets `[hidden] { display: none; }` but bootstrap.min.css set `[hidden] { display: none !important; }` so we also need the `!important` here to be able to override the default hidden behavior on the sphinx rendered scikit-learn.org. See: https://github.com/scikit-learn/scikit-learn/issues/21755 */display: inline-block !important;position: relative;}#sk-container-id-46 div.sk-text-repr-fallback {display: none;}</style><div id=\"sk-container-id-46\" class=\"sk-top-container\"><div class=\"sk-text-repr-fallback\"><pre>GridSearchCV(cv=10,\n",
       "             estimator=Pipeline(steps=[(&#x27;scl&#x27;, StandardScaler()),\n",
       "                                       (&#x27;pca&#x27;, PCA(n_components=0.9)),\n",
       "                                       (&#x27;clf&#x27;, SVC(random_state=1))]),\n",
       "             n_jobs=-1,\n",
       "             param_grid=[{&#x27;clf__C&#x27;: [0.0001, 0.001, 0.01, 0.1, 1, 10, 100,\n",
       "                                     1000],\n",
       "                          &#x27;clf__gamma&#x27;: [0.0001, 0.001, 0.01, 0.1, 1, 10, 100,\n",
       "                                         1000],\n",
       "                          &#x27;clf__kernel&#x27;: [&#x27;linear&#x27;]},\n",
       "                         {&#x27;clf__C&#x27;: [0.0001, 0.001, 0.01, 0.1, 1, 10, 100,\n",
       "                                     1000],\n",
       "                          &#x27;clf__gamma&#x27;: [0.0001, 0.001, 0.01, 0.1, 1, 10, 100,\n",
       "                                         1000],\n",
       "                          &#x27;clf__kernel&#x27;: [&#x27;poly&#x27;]},\n",
       "                         {&#x27;clf__C&#x27;: [0.0001, 0.001, 0.01, 0.1, 1, 10, 100,\n",
       "                                     1000],\n",
       "                          &#x27;clf__gamma&#x27;: [0.0001, 0.001, 0.01, 0.1, 1, 10, 100,\n",
       "                                         1000],\n",
       "                          &#x27;clf__kernel&#x27;: [&#x27;rbf&#x27;]}],\n",
       "             scoring=make_scorer(recall_score, pos_label=0))</pre><b>In a Jupyter environment, please rerun this cell to show the HTML representation or trust the notebook. <br />On GitHub, the HTML representation is unable to render, please try loading this page with nbviewer.org.</b></div><div class=\"sk-container\" hidden><div class=\"sk-item sk-dashed-wrapped\"><div class=\"sk-label-container\"><div class=\"sk-label sk-toggleable\"><input class=\"sk-toggleable__control sk-hidden--visually\" id=\"sk-estimator-id-220\" type=\"checkbox\" ><label for=\"sk-estimator-id-220\" class=\"sk-toggleable__label sk-toggleable__label-arrow\">GridSearchCV</label><div class=\"sk-toggleable__content\"><pre>GridSearchCV(cv=10,\n",
       "             estimator=Pipeline(steps=[(&#x27;scl&#x27;, StandardScaler()),\n",
       "                                       (&#x27;pca&#x27;, PCA(n_components=0.9)),\n",
       "                                       (&#x27;clf&#x27;, SVC(random_state=1))]),\n",
       "             n_jobs=-1,\n",
       "             param_grid=[{&#x27;clf__C&#x27;: [0.0001, 0.001, 0.01, 0.1, 1, 10, 100,\n",
       "                                     1000],\n",
       "                          &#x27;clf__gamma&#x27;: [0.0001, 0.001, 0.01, 0.1, 1, 10, 100,\n",
       "                                         1000],\n",
       "                          &#x27;clf__kernel&#x27;: [&#x27;linear&#x27;]},\n",
       "                         {&#x27;clf__C&#x27;: [0.0001, 0.001, 0.01, 0.1, 1, 10, 100,\n",
       "                                     1000],\n",
       "                          &#x27;clf__gamma&#x27;: [0.0001, 0.001, 0.01, 0.1, 1, 10, 100,\n",
       "                                         1000],\n",
       "                          &#x27;clf__kernel&#x27;: [&#x27;poly&#x27;]},\n",
       "                         {&#x27;clf__C&#x27;: [0.0001, 0.001, 0.01, 0.1, 1, 10, 100,\n",
       "                                     1000],\n",
       "                          &#x27;clf__gamma&#x27;: [0.0001, 0.001, 0.01, 0.1, 1, 10, 100,\n",
       "                                         1000],\n",
       "                          &#x27;clf__kernel&#x27;: [&#x27;rbf&#x27;]}],\n",
       "             scoring=make_scorer(recall_score, pos_label=0))</pre></div></div></div><div class=\"sk-parallel\"><div class=\"sk-parallel-item\"><div class=\"sk-item\"><div class=\"sk-label-container\"><div class=\"sk-label sk-toggleable\"><input class=\"sk-toggleable__control sk-hidden--visually\" id=\"sk-estimator-id-221\" type=\"checkbox\" ><label for=\"sk-estimator-id-221\" class=\"sk-toggleable__label sk-toggleable__label-arrow\">estimator: Pipeline</label><div class=\"sk-toggleable__content\"><pre>Pipeline(steps=[(&#x27;scl&#x27;, StandardScaler()), (&#x27;pca&#x27;, PCA(n_components=0.9)),\n",
       "                (&#x27;clf&#x27;, SVC(random_state=1))])</pre></div></div></div><div class=\"sk-serial\"><div class=\"sk-item\"><div class=\"sk-serial\"><div class=\"sk-item\"><div class=\"sk-estimator sk-toggleable\"><input class=\"sk-toggleable__control sk-hidden--visually\" id=\"sk-estimator-id-222\" type=\"checkbox\" ><label for=\"sk-estimator-id-222\" class=\"sk-toggleable__label sk-toggleable__label-arrow\">StandardScaler</label><div class=\"sk-toggleable__content\"><pre>StandardScaler()</pre></div></div></div><div class=\"sk-item\"><div class=\"sk-estimator sk-toggleable\"><input class=\"sk-toggleable__control sk-hidden--visually\" id=\"sk-estimator-id-223\" type=\"checkbox\" ><label for=\"sk-estimator-id-223\" class=\"sk-toggleable__label sk-toggleable__label-arrow\">PCA</label><div class=\"sk-toggleable__content\"><pre>PCA(n_components=0.9)</pre></div></div></div><div class=\"sk-item\"><div class=\"sk-estimator sk-toggleable\"><input class=\"sk-toggleable__control sk-hidden--visually\" id=\"sk-estimator-id-224\" type=\"checkbox\" ><label for=\"sk-estimator-id-224\" class=\"sk-toggleable__label sk-toggleable__label-arrow\">SVC</label><div class=\"sk-toggleable__content\"><pre>SVC(random_state=1)</pre></div></div></div></div></div></div></div></div></div></div></div></div>"
      ],
      "text/plain": [
       "GridSearchCV(cv=10,\n",
       "             estimator=Pipeline(steps=[('scl', StandardScaler()),\n",
       "                                       ('pca', PCA(n_components=0.9)),\n",
       "                                       ('clf', SVC(random_state=1))]),\n",
       "             n_jobs=-1,\n",
       "             param_grid=[{'clf__C': [0.0001, 0.001, 0.01, 0.1, 1, 10, 100,\n",
       "                                     1000],\n",
       "                          'clf__gamma': [0.0001, 0.001, 0.01, 0.1, 1, 10, 100,\n",
       "                                         1000],\n",
       "                          'clf__kernel': ['linear']},\n",
       "                         {'clf__C': [0.0001, 0.001, 0.01, 0.1, 1, 10, 100,\n",
       "                                     1000],\n",
       "                          'clf__gamma': [0.0001, 0.001, 0.01, 0.1, 1, 10, 100,\n",
       "                                         1000],\n",
       "                          'clf__kernel': ['poly']},\n",
       "                         {'clf__C': [0.0001, 0.001, 0.01, 0.1, 1, 10, 100,\n",
       "                                     1000],\n",
       "                          'clf__gamma': [0.0001, 0.001, 0.01, 0.1, 1, 10, 100,\n",
       "                                         1000],\n",
       "                          'clf__kernel': ['rbf']}],\n",
       "             scoring=make_scorer(recall_score, pos_label=0))"
      ]
     },
     "execution_count": 205,
     "metadata": {},
     "output_type": "execute_result"
    }
   ],
   "source": [
    "gs.fit(X_train, y_train)"
   ]
  },
  {
   "cell_type": "code",
   "execution_count": 206,
   "id": "bf52a4f0-9275-4922-8f24-1ad6894e8bf7",
   "metadata": {
    "tags": []
   },
   "outputs": [
    {
     "name": "stdout",
     "output_type": "stream",
     "text": [
      "Best Recall score = 0.85\n",
      "Best hyperparameter = {'clf__C': 100, 'clf__gamma': 0.0001, 'clf__kernel': 'linear'}\n"
     ]
    }
   ],
   "source": [
    "## Best Score and hyper parameter\n",
    "print(f'Best Recall score = {gs.best_score_}')\n",
    "print(f'Best hyperparameter = {gs.best_params_}')"
   ]
  },
  {
   "cell_type": "code",
   "execution_count": 211,
   "id": "4e1b2519-98a8-4c72-8db3-eb6635257c7e",
   "metadata": {
    "tags": []
   },
   "outputs": [
    {
     "data": {
      "text/html": [
       "<div>\n",
       "<style scoped>\n",
       "    .dataframe tbody tr th:only-of-type {\n",
       "        vertical-align: middle;\n",
       "    }\n",
       "\n",
       "    .dataframe tbody tr th {\n",
       "        vertical-align: top;\n",
       "    }\n",
       "\n",
       "    .dataframe thead th {\n",
       "        text-align: right;\n",
       "    }\n",
       "</style>\n",
       "<table border=\"1\" class=\"dataframe\">\n",
       "  <thead>\n",
       "    <tr style=\"text-align: right;\">\n",
       "      <th></th>\n",
       "      <th>mean_fit_time</th>\n",
       "      <th>std_fit_time</th>\n",
       "      <th>mean_score_time</th>\n",
       "      <th>std_score_time</th>\n",
       "      <th>param_clf__C</th>\n",
       "      <th>param_clf__gamma</th>\n",
       "      <th>param_clf__kernel</th>\n",
       "      <th>params</th>\n",
       "      <th>split0_test_score</th>\n",
       "      <th>split1_test_score</th>\n",
       "      <th>...</th>\n",
       "      <th>split3_test_score</th>\n",
       "      <th>split4_test_score</th>\n",
       "      <th>split5_test_score</th>\n",
       "      <th>split6_test_score</th>\n",
       "      <th>split7_test_score</th>\n",
       "      <th>split8_test_score</th>\n",
       "      <th>split9_test_score</th>\n",
       "      <th>mean_test_score</th>\n",
       "      <th>std_test_score</th>\n",
       "      <th>rank_test_score</th>\n",
       "    </tr>\n",
       "  </thead>\n",
       "  <tbody>\n",
       "    <tr>\n",
       "      <th>178</th>\n",
       "      <td>0.002919</td>\n",
       "      <td>0.001442</td>\n",
       "      <td>0.001680</td>\n",
       "      <td>0.000637</td>\n",
       "      <td>100</td>\n",
       "      <td>0.01</td>\n",
       "      <td>rbf</td>\n",
       "      <td>{'clf__C': 100, 'clf__gamma': 0.01, 'clf__kern...</td>\n",
       "      <td>1.0</td>\n",
       "      <td>0.5</td>\n",
       "      <td>...</td>\n",
       "      <td>1.0</td>\n",
       "      <td>1.0</td>\n",
       "      <td>0.5</td>\n",
       "      <td>1.0</td>\n",
       "      <td>0.5</td>\n",
       "      <td>1.0</td>\n",
       "      <td>1.0</td>\n",
       "      <td>0.85</td>\n",
       "      <td>0.229129</td>\n",
       "      <td>1</td>\n",
       "    </tr>\n",
       "    <tr>\n",
       "      <th>50</th>\n",
       "      <td>0.004419</td>\n",
       "      <td>0.001809</td>\n",
       "      <td>0.002848</td>\n",
       "      <td>0.001443</td>\n",
       "      <td>100</td>\n",
       "      <td>0.01</td>\n",
       "      <td>linear</td>\n",
       "      <td>{'clf__C': 100, 'clf__gamma': 0.01, 'clf__kern...</td>\n",
       "      <td>1.0</td>\n",
       "      <td>1.0</td>\n",
       "      <td>...</td>\n",
       "      <td>1.0</td>\n",
       "      <td>1.0</td>\n",
       "      <td>0.5</td>\n",
       "      <td>1.0</td>\n",
       "      <td>0.5</td>\n",
       "      <td>1.0</td>\n",
       "      <td>0.5</td>\n",
       "      <td>0.85</td>\n",
       "      <td>0.229129</td>\n",
       "      <td>1</td>\n",
       "    </tr>\n",
       "    <tr>\n",
       "      <th>49</th>\n",
       "      <td>0.003162</td>\n",
       "      <td>0.001458</td>\n",
       "      <td>0.001712</td>\n",
       "      <td>0.000923</td>\n",
       "      <td>100</td>\n",
       "      <td>0.001</td>\n",
       "      <td>linear</td>\n",
       "      <td>{'clf__C': 100, 'clf__gamma': 0.001, 'clf__ker...</td>\n",
       "      <td>1.0</td>\n",
       "      <td>1.0</td>\n",
       "      <td>...</td>\n",
       "      <td>1.0</td>\n",
       "      <td>1.0</td>\n",
       "      <td>0.5</td>\n",
       "      <td>1.0</td>\n",
       "      <td>0.5</td>\n",
       "      <td>1.0</td>\n",
       "      <td>0.5</td>\n",
       "      <td>0.85</td>\n",
       "      <td>0.229129</td>\n",
       "      <td>1</td>\n",
       "    </tr>\n",
       "    <tr>\n",
       "      <th>48</th>\n",
       "      <td>0.004017</td>\n",
       "      <td>0.002161</td>\n",
       "      <td>0.001945</td>\n",
       "      <td>0.001062</td>\n",
       "      <td>100</td>\n",
       "      <td>0.0001</td>\n",
       "      <td>linear</td>\n",
       "      <td>{'clf__C': 100, 'clf__gamma': 0.0001, 'clf__ke...</td>\n",
       "      <td>1.0</td>\n",
       "      <td>1.0</td>\n",
       "      <td>...</td>\n",
       "      <td>1.0</td>\n",
       "      <td>1.0</td>\n",
       "      <td>0.5</td>\n",
       "      <td>1.0</td>\n",
       "      <td>0.5</td>\n",
       "      <td>1.0</td>\n",
       "      <td>0.5</td>\n",
       "      <td>0.85</td>\n",
       "      <td>0.229129</td>\n",
       "      <td>1</td>\n",
       "    </tr>\n",
       "    <tr>\n",
       "      <th>53</th>\n",
       "      <td>0.002947</td>\n",
       "      <td>0.001257</td>\n",
       "      <td>0.001104</td>\n",
       "      <td>0.000119</td>\n",
       "      <td>100</td>\n",
       "      <td>10</td>\n",
       "      <td>linear</td>\n",
       "      <td>{'clf__C': 100, 'clf__gamma': 10, 'clf__kernel...</td>\n",
       "      <td>1.0</td>\n",
       "      <td>1.0</td>\n",
       "      <td>...</td>\n",
       "      <td>1.0</td>\n",
       "      <td>1.0</td>\n",
       "      <td>0.5</td>\n",
       "      <td>1.0</td>\n",
       "      <td>0.5</td>\n",
       "      <td>1.0</td>\n",
       "      <td>0.5</td>\n",
       "      <td>0.85</td>\n",
       "      <td>0.229129</td>\n",
       "      <td>1</td>\n",
       "    </tr>\n",
       "  </tbody>\n",
       "</table>\n",
       "<p>5 rows × 21 columns</p>\n",
       "</div>"
      ],
      "text/plain": [
       "     mean_fit_time  std_fit_time  mean_score_time  std_score_time  \\\n",
       "178       0.002919      0.001442         0.001680        0.000637   \n",
       "50        0.004419      0.001809         0.002848        0.001443   \n",
       "49        0.003162      0.001458         0.001712        0.000923   \n",
       "48        0.004017      0.002161         0.001945        0.001062   \n",
       "53        0.002947      0.001257         0.001104        0.000119   \n",
       "\n",
       "    param_clf__C param_clf__gamma param_clf__kernel  \\\n",
       "178          100             0.01               rbf   \n",
       "50           100             0.01            linear   \n",
       "49           100            0.001            linear   \n",
       "48           100           0.0001            linear   \n",
       "53           100               10            linear   \n",
       "\n",
       "                                                params  split0_test_score  \\\n",
       "178  {'clf__C': 100, 'clf__gamma': 0.01, 'clf__kern...                1.0   \n",
       "50   {'clf__C': 100, 'clf__gamma': 0.01, 'clf__kern...                1.0   \n",
       "49   {'clf__C': 100, 'clf__gamma': 0.001, 'clf__ker...                1.0   \n",
       "48   {'clf__C': 100, 'clf__gamma': 0.0001, 'clf__ke...                1.0   \n",
       "53   {'clf__C': 100, 'clf__gamma': 10, 'clf__kernel...                1.0   \n",
       "\n",
       "     split1_test_score  ...  split3_test_score  split4_test_score  \\\n",
       "178                0.5  ...                1.0                1.0   \n",
       "50                 1.0  ...                1.0                1.0   \n",
       "49                 1.0  ...                1.0                1.0   \n",
       "48                 1.0  ...                1.0                1.0   \n",
       "53                 1.0  ...                1.0                1.0   \n",
       "\n",
       "     split5_test_score  split6_test_score  split7_test_score  \\\n",
       "178                0.5                1.0                0.5   \n",
       "50                 0.5                1.0                0.5   \n",
       "49                 0.5                1.0                0.5   \n",
       "48                 0.5                1.0                0.5   \n",
       "53                 0.5                1.0                0.5   \n",
       "\n",
       "     split8_test_score  split9_test_score  mean_test_score  std_test_score  \\\n",
       "178                1.0                1.0             0.85        0.229129   \n",
       "50                 1.0                0.5             0.85        0.229129   \n",
       "49                 1.0                0.5             0.85        0.229129   \n",
       "48                 1.0                0.5             0.85        0.229129   \n",
       "53                 1.0                0.5             0.85        0.229129   \n",
       "\n",
       "     rank_test_score  \n",
       "178                1  \n",
       "50                 1  \n",
       "49                 1  \n",
       "48                 1  \n",
       "53                 1  \n",
       "\n",
       "[5 rows x 21 columns]"
      ]
     },
     "execution_count": 211,
     "metadata": {},
     "output_type": "execute_result"
    }
   ],
   "source": [
    "re = pd.DataFrame(gs.cv_results_)\n",
    "re.sort_values('rank_test_score').head()\n",
    "#gs.refit"
   ]
  },
  {
   "cell_type": "code",
   "execution_count": 208,
   "id": "49d4f824-bf98-4b9a-be0d-ec9081de834d",
   "metadata": {
    "tags": []
   },
   "outputs": [
    {
     "data": {
      "image/png": "[encoded data removed]",
      "text/plain": [
       "<Figure size 640x480 with 2 Axes>"
      ]
     },
     "metadata": {},
     "output_type": "display_data"
    }
   ],
   "source": [
    "## confusion metrix\n",
    "y_pred = gs.predict(X_test)\n",
    "cm = metrics.confusion_matrix(y_test, y_pred)\n",
    "fig = metrics.ConfusionMatrixDisplay(cm)\n",
    "fig.plot();"
   ]
  },
  {
   "cell_type": "code",
   "execution_count": 209,
   "id": "5ecf8b9a-2034-4cfe-ae87-aa4c9d84456c",
   "metadata": {
    "tags": []
   },
   "outputs": [
    {
     "name": "stdout",
     "output_type": "stream",
     "text": [
      "              precision    recall  f1-score   support\n",
      "\n",
      "           0       1.00      0.75      0.86         4\n",
      "           1       0.99      1.00      0.99        72\n",
      "\n",
      "    accuracy                           0.99        76\n",
      "   macro avg       0.99      0.88      0.93        76\n",
      "weighted avg       0.99      0.99      0.99        76\n",
      "\n"
     ]
    }
   ],
   "source": [
    "## Classification report\n",
    "print(metrics.classification_report(y_test, y_pred))"
   ]
  },
  {
   "cell_type": "code",
   "execution_count": null,
   "id": "3735c533-3b6d-4ea8-b356-055e0c122578",
   "metadata": {},
   "outputs": [],
   "source": []
  },
  {
   "cell_type": "markdown",
   "id": "c828b8b2-e42f-4dbb-b992-f2c74f8d3db7",
   "metadata": {},
   "source": [
    "# Chaning class weight"
   ]
  },
  {
   "cell_type": "code",
   "execution_count": 218,
   "id": "e8933c85-70cd-42fa-98f0-36e28331975b",
   "metadata": {
    "tags": []
   },
   "outputs": [],
   "source": [
    "scl = StandardScaler()\n",
    "pca = PCA(n_components=.9)\n",
    "clf = SVC(random_state=1, class_weight='balanced')\n",
    "\n",
    "pipe = Pipeline([\n",
    "    ('scl', scl),\n",
    "    ('pca', pca),\n",
    "    ('clf', clf)\n",
    "])\n"
   ]
  },
  {
   "cell_type": "code",
   "execution_count": 219,
   "id": "97bc1397-cdc0-497a-942b-80bad71f29d5",
   "metadata": {
    "tags": []
   },
   "outputs": [],
   "source": [
    "params_range = [.0001, .001, .01, .1, 1, 10, 100, 1000]\n",
    "\n",
    "set1 = {\n",
    "    'clf__C' : params_range,\n",
    "    'clf__gamma' : params_range,\n",
    "    'clf__kernel' : ['linear']\n",
    "}\n",
    "\n",
    "set2 = {\n",
    "    'clf__C' : params_range,\n",
    "    'clf__gamma' : params_range,\n",
    "    'clf__kernel' : ['poly']\n",
    "}\n",
    "\n",
    "set3 = {\n",
    "    'clf__C' : params_range,\n",
    "    'clf__gamma' : params_range,\n",
    "    'clf__kernel' : ['rbf']\n",
    "}\n",
    "\n",
    "param_grid = [set1, set2, set3]"
   ]
  },
  {
   "cell_type": "code",
   "execution_count": 223,
   "id": "6b84675d-a678-4ab6-b41c-df6c03a52f9f",
   "metadata": {
    "tags": []
   },
   "outputs": [
    {
     "data": {
      "text/html": [
       "<style>#sk-container-id-48 {color: black;}#sk-container-id-48 pre{padding: 0;}#sk-container-id-48 div.sk-toggleable {background-color: white;}#sk-container-id-48 label.sk-toggleable__label {cursor: pointer;display: block;width: 100%;margin-bottom: 0;padding: 0.3em;box-sizing: border-box;text-align: center;}#sk-container-id-48 label.sk-toggleable__label-arrow:before {content: \"▸\";float: left;margin-right: 0.25em;color: #696969;}#sk-container-id-48 label.sk-toggleable__label-arrow:hover:before {color: black;}#sk-container-id-48 div.sk-estimator:hover label.sk-toggleable__label-arrow:before {color: black;}#sk-container-id-48 div.sk-toggleable__content {max-height: 0;max-width: 0;overflow: hidden;text-align: left;background-color: #f0f8ff;}#sk-container-id-48 div.sk-toggleable__content pre {margin: 0.2em;color: black;border-radius: 0.25em;background-color: #f0f8ff;}#sk-container-id-48 input.sk-toggleable__control:checked~div.sk-toggleable__content {max-height: 200px;max-width: 100%;overflow: auto;}#sk-container-id-48 input.sk-toggleable__control:checked~label.sk-toggleable__label-arrow:before {content: \"▾\";}#sk-container-id-48 div.sk-estimator input.sk-toggleable__control:checked~label.sk-toggleable__label {background-color: #d4ebff;}#sk-container-id-48 div.sk-label input.sk-toggleable__control:checked~label.sk-toggleable__label {background-color: #d4ebff;}#sk-container-id-48 input.sk-hidden--visually {border: 0;clip: rect(1px 1px 1px 1px);clip: rect(1px, 1px, 1px, 1px);height: 1px;margin: -1px;overflow: hidden;padding: 0;position: absolute;width: 1px;}#sk-container-id-48 div.sk-estimator {font-family: monospace;background-color: #f0f8ff;border: 1px dotted black;border-radius: 0.25em;box-sizing: border-box;margin-bottom: 0.5em;}#sk-container-id-48 div.sk-estimator:hover {background-color: #d4ebff;}#sk-container-id-48 div.sk-parallel-item::after {content: \"\";width: 100%;border-bottom: 1px solid gray;flex-grow: 1;}#sk-container-id-48 div.sk-label:hover label.sk-toggleable__label {background-color: #d4ebff;}#sk-container-id-48 div.sk-serial::before {content: \"\";position: absolute;border-left: 1px solid gray;box-sizing: border-box;top: 0;bottom: 0;left: 50%;z-index: 0;}#sk-container-id-48 div.sk-serial {display: flex;flex-direction: column;align-items: center;background-color: white;padding-right: 0.2em;padding-left: 0.2em;position: relative;}#sk-container-id-48 div.sk-item {position: relative;z-index: 1;}#sk-container-id-48 div.sk-parallel {display: flex;align-items: stretch;justify-content: center;background-color: white;position: relative;}#sk-container-id-48 div.sk-item::before, #sk-container-id-48 div.sk-parallel-item::before {content: \"\";position: absolute;border-left: 1px solid gray;box-sizing: border-box;top: 0;bottom: 0;left: 50%;z-index: -1;}#sk-container-id-48 div.sk-parallel-item {display: flex;flex-direction: column;z-index: 1;position: relative;background-color: white;}#sk-container-id-48 div.sk-parallel-item:first-child::after {align-self: flex-end;width: 50%;}#sk-container-id-48 div.sk-parallel-item:last-child::after {align-self: flex-start;width: 50%;}#sk-container-id-48 div.sk-parallel-item:only-child::after {width: 0;}#sk-container-id-48 div.sk-dashed-wrapped {border: 1px dashed gray;margin: 0 0.4em 0.5em 0.4em;box-sizing: border-box;padding-bottom: 0.4em;background-color: white;}#sk-container-id-48 div.sk-label label {font-family: monospace;font-weight: bold;display: inline-block;line-height: 1.2em;}#sk-container-id-48 div.sk-label-container {text-align: center;}#sk-container-id-48 div.sk-container {/* jupyter's `normalize.less` sets `[hidden] { display: none; }` but bootstrap.min.css set `[hidden] { display: none !important; }` so we also need the `!important` here to be able to override the default hidden behavior on the sphinx rendered scikit-learn.org. See: https://github.com/scikit-learn/scikit-learn/issues/21755 */display: inline-block !important;position: relative;}#sk-container-id-48 div.sk-text-repr-fallback {display: none;}</style><div id=\"sk-container-id-48\" class=\"sk-top-container\"><div class=\"sk-text-repr-fallback\"><pre>GridSearchCV(cv=10,\n",
       "             estimator=Pipeline(steps=[(&#x27;scl&#x27;, StandardScaler()),\n",
       "                                       (&#x27;pca&#x27;, PCA(n_components=0.9)),\n",
       "                                       (&#x27;clf&#x27;,\n",
       "                                        SVC(class_weight=&#x27;balanced&#x27;,\n",
       "                                            random_state=1))]),\n",
       "             n_jobs=-1,\n",
       "             param_grid=[{&#x27;clf__C&#x27;: [0.0001, 0.001, 0.01, 0.1, 1, 10, 100,\n",
       "                                     1000],\n",
       "                          &#x27;clf__gamma&#x27;: [0.0001, 0.001, 0.01, 0.1, 1, 10, 100,\n",
       "                                         1000],\n",
       "                          &#x27;clf__kernel&#x27;: [&#x27;linear&#x27;]},\n",
       "                         {&#x27;clf__C&#x27;: [0.0001, 0.001, 0.01, 0.1, 1, 10, 100,\n",
       "                                     1000],\n",
       "                          &#x27;clf__gamma&#x27;: [0.0001, 0.001, 0.01, 0.1, 1, 10, 100,\n",
       "                                         1000],\n",
       "                          &#x27;clf__kernel&#x27;: [&#x27;poly&#x27;]},\n",
       "                         {&#x27;clf__C&#x27;: [0.0001, 0.001, 0.01, 0.1, 1, 10, 100,\n",
       "                                     1000],\n",
       "                          &#x27;clf__gamma&#x27;: [0.0001, 0.001, 0.01, 0.1, 1, 10, 100,\n",
       "                                         1000],\n",
       "                          &#x27;clf__kernel&#x27;: [&#x27;rbf&#x27;]}],\n",
       "             scoring=make_scorer(f1_score, pos_label=0))</pre><b>In a Jupyter environment, please rerun this cell to show the HTML representation or trust the notebook. <br />On GitHub, the HTML representation is unable to render, please try loading this page with nbviewer.org.</b></div><div class=\"sk-container\" hidden><div class=\"sk-item sk-dashed-wrapped\"><div class=\"sk-label-container\"><div class=\"sk-label sk-toggleable\"><input class=\"sk-toggleable__control sk-hidden--visually\" id=\"sk-estimator-id-230\" type=\"checkbox\" ><label for=\"sk-estimator-id-230\" class=\"sk-toggleable__label sk-toggleable__label-arrow\">GridSearchCV</label><div class=\"sk-toggleable__content\"><pre>GridSearchCV(cv=10,\n",
       "             estimator=Pipeline(steps=[(&#x27;scl&#x27;, StandardScaler()),\n",
       "                                       (&#x27;pca&#x27;, PCA(n_components=0.9)),\n",
       "                                       (&#x27;clf&#x27;,\n",
       "                                        SVC(class_weight=&#x27;balanced&#x27;,\n",
       "                                            random_state=1))]),\n",
       "             n_jobs=-1,\n",
       "             param_grid=[{&#x27;clf__C&#x27;: [0.0001, 0.001, 0.01, 0.1, 1, 10, 100,\n",
       "                                     1000],\n",
       "                          &#x27;clf__gamma&#x27;: [0.0001, 0.001, 0.01, 0.1, 1, 10, 100,\n",
       "                                         1000],\n",
       "                          &#x27;clf__kernel&#x27;: [&#x27;linear&#x27;]},\n",
       "                         {&#x27;clf__C&#x27;: [0.0001, 0.001, 0.01, 0.1, 1, 10, 100,\n",
       "                                     1000],\n",
       "                          &#x27;clf__gamma&#x27;: [0.0001, 0.001, 0.01, 0.1, 1, 10, 100,\n",
       "                                         1000],\n",
       "                          &#x27;clf__kernel&#x27;: [&#x27;poly&#x27;]},\n",
       "                         {&#x27;clf__C&#x27;: [0.0001, 0.001, 0.01, 0.1, 1, 10, 100,\n",
       "                                     1000],\n",
       "                          &#x27;clf__gamma&#x27;: [0.0001, 0.001, 0.01, 0.1, 1, 10, 100,\n",
       "                                         1000],\n",
       "                          &#x27;clf__kernel&#x27;: [&#x27;rbf&#x27;]}],\n",
       "             scoring=make_scorer(f1_score, pos_label=0))</pre></div></div></div><div class=\"sk-parallel\"><div class=\"sk-parallel-item\"><div class=\"sk-item\"><div class=\"sk-label-container\"><div class=\"sk-label sk-toggleable\"><input class=\"sk-toggleable__control sk-hidden--visually\" id=\"sk-estimator-id-231\" type=\"checkbox\" ><label for=\"sk-estimator-id-231\" class=\"sk-toggleable__label sk-toggleable__label-arrow\">estimator: Pipeline</label><div class=\"sk-toggleable__content\"><pre>Pipeline(steps=[(&#x27;scl&#x27;, StandardScaler()), (&#x27;pca&#x27;, PCA(n_components=0.9)),\n",
       "                (&#x27;clf&#x27;, SVC(class_weight=&#x27;balanced&#x27;, random_state=1))])</pre></div></div></div><div class=\"sk-serial\"><div class=\"sk-item\"><div class=\"sk-serial\"><div class=\"sk-item\"><div class=\"sk-estimator sk-toggleable\"><input class=\"sk-toggleable__control sk-hidden--visually\" id=\"sk-estimator-id-232\" type=\"checkbox\" ><label for=\"sk-estimator-id-232\" class=\"sk-toggleable__label sk-toggleable__label-arrow\">StandardScaler</label><div class=\"sk-toggleable__content\"><pre>StandardScaler()</pre></div></div></div><div class=\"sk-item\"><div class=\"sk-estimator sk-toggleable\"><input class=\"sk-toggleable__control sk-hidden--visually\" id=\"sk-estimator-id-233\" type=\"checkbox\" ><label for=\"sk-estimator-id-233\" class=\"sk-toggleable__label sk-toggleable__label-arrow\">PCA</label><div class=\"sk-toggleable__content\"><pre>PCA(n_components=0.9)</pre></div></div></div><div class=\"sk-item\"><div class=\"sk-estimator sk-toggleable\"><input class=\"sk-toggleable__control sk-hidden--visually\" id=\"sk-estimator-id-234\" type=\"checkbox\" ><label for=\"sk-estimator-id-234\" class=\"sk-toggleable__label sk-toggleable__label-arrow\">SVC</label><div class=\"sk-toggleable__content\"><pre>SVC(class_weight=&#x27;balanced&#x27;, random_state=1)</pre></div></div></div></div></div></div></div></div></div></div></div></div>"
      ],
      "text/plain": [
       "GridSearchCV(cv=10,\n",
       "             estimator=Pipeline(steps=[('scl', StandardScaler()),\n",
       "                                       ('pca', PCA(n_components=0.9)),\n",
       "                                       ('clf',\n",
       "                                        SVC(class_weight='balanced',\n",
       "                                            random_state=1))]),\n",
       "             n_jobs=-1,\n",
       "             param_grid=[{'clf__C': [0.0001, 0.001, 0.01, 0.1, 1, 10, 100,\n",
       "                                     1000],\n",
       "                          'clf__gamma': [0.0001, 0.001, 0.01, 0.1, 1, 10, 100,\n",
       "                                         1000],\n",
       "                          'clf__kernel': ['linear']},\n",
       "                         {'clf__C': [0.0001, 0.001, 0.01, 0.1, 1, 10, 100,\n",
       "                                     1000],\n",
       "                          'clf__gamma': [0.0001, 0.001, 0.01, 0.1, 1, 10, 100,\n",
       "                                         1000],\n",
       "                          'clf__kernel': ['poly']},\n",
       "                         {'clf__C': [0.0001, 0.001, 0.01, 0.1, 1, 10, 100,\n",
       "                                     1000],\n",
       "                          'clf__gamma': [0.0001, 0.001, 0.01, 0.1, 1, 10, 100,\n",
       "                                         1000],\n",
       "                          'clf__kernel': ['rbf']}],\n",
       "             scoring=make_scorer(f1_score, pos_label=0))"
      ]
     },
     "execution_count": 223,
     "metadata": {},
     "output_type": "execute_result"
    }
   ],
   "source": [
    "## changing scoring metric in grid Search\n",
    "## and changing target label\n",
    "from sklearn.metrics import make_scorer\n",
    "\n",
    "scorer = make_scorer(metrics.f1_score, pos_label=0)\n",
    "\n",
    "gs = GridSearchCV(\n",
    "    estimator=pipe,\n",
    "    param_grid=param_grid,\n",
    "    cv=10,\n",
    "    n_jobs=-1,\n",
    "    #changing target label\n",
    "    scoring=scorer\n",
    ")\n",
    "gs.fit(X_train, y_train)"
   ]
  },
  {
   "cell_type": "code",
   "execution_count": 224,
   "id": "43d55259-4004-4c41-839f-9e0349f2489f",
   "metadata": {
    "tags": []
   },
   "outputs": [
    {
     "data": {
      "image/png": "[encoded data removed]",
      "text/plain": [
       "<Figure size 640x480 with 2 Axes>"
      ]
     },
     "metadata": {},
     "output_type": "display_data"
    }
   ],
   "source": [
    "## confusion metrix\n",
    "y_pred = gs.predict(X_test)\n",
    "cm = metrics.confusion_matrix(y_test, y_pred)\n",
    "fig = metrics.ConfusionMatrixDisplay(cm)\n",
    "fig.plot();"
   ]
  },
  {
   "cell_type": "code",
   "execution_count": 225,
   "id": "3d916bb6-716c-4e53-a5cb-46ff954f4472",
   "metadata": {
    "tags": []
   },
   "outputs": [
    {
     "name": "stdout",
     "output_type": "stream",
     "text": [
      "              precision    recall  f1-score   support\n",
      "\n",
      "           0       1.00      0.75      0.86         4\n",
      "           1       0.99      1.00      0.99        72\n",
      "\n",
      "    accuracy                           0.99        76\n",
      "   macro avg       0.99      0.88      0.93        76\n",
      "weighted avg       0.99      0.99      0.99        76\n",
      "\n"
     ]
    }
   ],
   "source": [
    "## Classification report\n",
    "print(metrics.classification_report(y_test, y_pred))"
   ]
  },
  {
   "cell_type": "markdown",
   "id": "8ff41119-c362-45c6-b869-052cf5f9cf51",
   "metadata": {},
   "source": [
    "# Using SMOTE for imblance classificaiton"
   ]
  },
  {
   "cell_type": "markdown",
   "id": "5e893c99-f8e4-4fea-bbfe-26ca0385872a",
   "metadata": {},
   "source": [
    "# Over Sampling"
   ]
  },
  {
   "cell_type": "code",
   "execution_count": 227,
   "id": "1bebaa3d-75ba-4f4d-bf49-a9f8effd6c7f",
   "metadata": {
    "collapsed": true,
    "jupyter": {
     "outputs_hidden": true
    },
    "tags": []
   },
   "outputs": [
    {
     "name": "stdout",
     "output_type": "stream",
     "text": [
      "Requirement already satisfied: imbalanced-learn in /Users/jessadakorn/anaconda3/lib/python3.11/site-packages (0.10.1)\n",
      "Collecting imbalanced-learn\n",
      "  Downloading imbalanced_learn-0.11.0-py3-none-any.whl (235 kB)\n",
      "\u001b[2K     \u001b[90m━━━━━━━━━━━━━━━━━━━━━━━━━━━━━━━━━━━━━━━\u001b[0m \u001b[32m235.6/235.6 kB\u001b[0m \u001b[31m3.4 MB/s\u001b[0m eta \u001b[36m0:00:00\u001b[0ma \u001b[36m0:00:01\u001b[0m\n",
      "\u001b[?25hRequirement already satisfied: numpy>=1.17.3 in /Users/jessadakorn/anaconda3/lib/python3.11/site-packages (from imbalanced-learn) (1.24.3)\n",
      "Requirement already satisfied: scipy>=1.5.0 in /Users/jessadakorn/anaconda3/lib/python3.11/site-packages (from imbalanced-learn) (1.11.1)\n",
      "Requirement already satisfied: scikit-learn>=1.0.2 in /Users/jessadakorn/anaconda3/lib/python3.11/site-packages (from imbalanced-learn) (1.3.0)\n",
      "Requirement already satisfied: joblib>=1.1.1 in /Users/jessadakorn/anaconda3/lib/python3.11/site-packages (from imbalanced-learn) (1.2.0)\n",
      "Requirement already satisfied: threadpoolctl>=2.0.0 in /Users/jessadakorn/anaconda3/lib/python3.11/site-packages (from imbalanced-learn) (2.2.0)\n",
      "Installing collected packages: imbalanced-learn\n",
      "  Attempting uninstall: imbalanced-learn\n",
      "    Found existing installation: imbalanced-learn 0.10.1\n",
      "    Uninstalling imbalanced-learn-0.10.1:\n",
      "      Successfully uninstalled imbalanced-learn-0.10.1\n",
      "Successfully installed imbalanced-learn-0.11.0\n",
      "\n",
      "\u001b[1m[\u001b[0m\u001b[34;49mnotice\u001b[0m\u001b[1;39;49m]\u001b[0m\u001b[39;49m A new release of pip is available: \u001b[0m\u001b[31;49m23.0.1\u001b[0m\u001b[39;49m -> \u001b[0m\u001b[32;49m23.3.2\u001b[0m\n",
      "\u001b[1m[\u001b[0m\u001b[34;49mnotice\u001b[0m\u001b[1;39;49m]\u001b[0m\u001b[39;49m To update, run: \u001b[0m\u001b[32;49mpip install --upgrade pip\u001b[0m\n",
      "Note: you may need to restart the kernel to use updated packages.\n"
     ]
    }
   ],
   "source": [
    "pip install -U imbalanced-learn"
   ]
  },
  {
   "cell_type": "code",
   "execution_count": 229,
   "id": "3c40a717-c34b-4c1b-815b-c2da2c9765fd",
   "metadata": {
    "tags": []
   },
   "outputs": [
    {
     "data": {
      "text/plain": [
       "<Axes: xlabel='target'>"
      ]
     },
     "execution_count": 229,
     "metadata": {},
     "output_type": "execute_result"
    },
    {
     "data": {
      "image/png": "[encoded data removed]",
      "text/plain": [
       "<Figure size 640x480 with 1 Axes>"
      ]
     },
     "metadata": {},
     "output_type": "display_data"
    }
   ],
   "source": [
    "pd.Series(y).value_counts().plot(kind='bar')"
   ]
  },
  {
   "cell_type": "code",
   "execution_count": 228,
   "id": "ceffe0fd-3b69-44ca-9395-e946b83287d5",
   "metadata": {
    "tags": []
   },
   "outputs": [],
   "source": [
    "from imblearn.over_sampling import SMOTE"
   ]
  },
  {
   "cell_type": "code",
   "execution_count": 232,
   "id": "6324bd8e-45cf-4001-b5d1-94acb16ae927",
   "metadata": {
    "tags": []
   },
   "outputs": [
    {
     "data": {
      "text/plain": [
       "<Axes: xlabel='target'>"
      ]
     },
     "execution_count": 232,
     "metadata": {},
     "output_type": "execute_result"
    },
    {
     "data": {
      "image/png": "[encoded data removed]",
      "text/plain": [
       "<Figure size 640x480 with 1 Axes>"
      ]
     },
     "metadata": {},
     "output_type": "display_data"
    }
   ],
   "source": [
    "oversample = SMOTE()\n",
    "X_train_osm, y_train_osm = oversample.fit_resample(X_train, y_train)\n",
    "pd.Series(y_train_osm).value_counts().plot(kind ='bar')"
   ]
  },
  {
   "cell_type": "code",
   "execution_count": 233,
   "id": "66e7ebd8-04dc-47ea-b47c-698edb002003",
   "metadata": {
    "tags": []
   },
   "outputs": [
    {
     "data": {
      "text/html": [
       "<style>#sk-container-id-49 {color: black;}#sk-container-id-49 pre{padding: 0;}#sk-container-id-49 div.sk-toggleable {background-color: white;}#sk-container-id-49 label.sk-toggleable__label {cursor: pointer;display: block;width: 100%;margin-bottom: 0;padding: 0.3em;box-sizing: border-box;text-align: center;}#sk-container-id-49 label.sk-toggleable__label-arrow:before {content: \"▸\";float: left;margin-right: 0.25em;color: #696969;}#sk-container-id-49 label.sk-toggleable__label-arrow:hover:before {color: black;}#sk-container-id-49 div.sk-estimator:hover label.sk-toggleable__label-arrow:before {color: black;}#sk-container-id-49 div.sk-toggleable__content {max-height: 0;max-width: 0;overflow: hidden;text-align: left;background-color: #f0f8ff;}#sk-container-id-49 div.sk-toggleable__content pre {margin: 0.2em;color: black;border-radius: 0.25em;background-color: #f0f8ff;}#sk-container-id-49 input.sk-toggleable__control:checked~div.sk-toggleable__content {max-height: 200px;max-width: 100%;overflow: auto;}#sk-container-id-49 input.sk-toggleable__control:checked~label.sk-toggleable__label-arrow:before {content: \"▾\";}#sk-container-id-49 div.sk-estimator input.sk-toggleable__control:checked~label.sk-toggleable__label {background-color: #d4ebff;}#sk-container-id-49 div.sk-label input.sk-toggleable__control:checked~label.sk-toggleable__label {background-color: #d4ebff;}#sk-container-id-49 input.sk-hidden--visually {border: 0;clip: rect(1px 1px 1px 1px);clip: rect(1px, 1px, 1px, 1px);height: 1px;margin: -1px;overflow: hidden;padding: 0;position: absolute;width: 1px;}#sk-container-id-49 div.sk-estimator {font-family: monospace;background-color: #f0f8ff;border: 1px dotted black;border-radius: 0.25em;box-sizing: border-box;margin-bottom: 0.5em;}#sk-container-id-49 div.sk-estimator:hover {background-color: #d4ebff;}#sk-container-id-49 div.sk-parallel-item::after {content: \"\";width: 100%;border-bottom: 1px solid gray;flex-grow: 1;}#sk-container-id-49 div.sk-label:hover label.sk-toggleable__label {background-color: #d4ebff;}#sk-container-id-49 div.sk-serial::before {content: \"\";position: absolute;border-left: 1px solid gray;box-sizing: border-box;top: 0;bottom: 0;left: 50%;z-index: 0;}#sk-container-id-49 div.sk-serial {display: flex;flex-direction: column;align-items: center;background-color: white;padding-right: 0.2em;padding-left: 0.2em;position: relative;}#sk-container-id-49 div.sk-item {position: relative;z-index: 1;}#sk-container-id-49 div.sk-parallel {display: flex;align-items: stretch;justify-content: center;background-color: white;position: relative;}#sk-container-id-49 div.sk-item::before, #sk-container-id-49 div.sk-parallel-item::before {content: \"\";position: absolute;border-left: 1px solid gray;box-sizing: border-box;top: 0;bottom: 0;left: 50%;z-index: -1;}#sk-container-id-49 div.sk-parallel-item {display: flex;flex-direction: column;z-index: 1;position: relative;background-color: white;}#sk-container-id-49 div.sk-parallel-item:first-child::after {align-self: flex-end;width: 50%;}#sk-container-id-49 div.sk-parallel-item:last-child::after {align-self: flex-start;width: 50%;}#sk-container-id-49 div.sk-parallel-item:only-child::after {width: 0;}#sk-container-id-49 div.sk-dashed-wrapped {border: 1px dashed gray;margin: 0 0.4em 0.5em 0.4em;box-sizing: border-box;padding-bottom: 0.4em;background-color: white;}#sk-container-id-49 div.sk-label label {font-family: monospace;font-weight: bold;display: inline-block;line-height: 1.2em;}#sk-container-id-49 div.sk-label-container {text-align: center;}#sk-container-id-49 div.sk-container {/* jupyter's `normalize.less` sets `[hidden] { display: none; }` but bootstrap.min.css set `[hidden] { display: none !important; }` so we also need the `!important` here to be able to override the default hidden behavior on the sphinx rendered scikit-learn.org. See: https://github.com/scikit-learn/scikit-learn/issues/21755 */display: inline-block !important;position: relative;}#sk-container-id-49 div.sk-text-repr-fallback {display: none;}</style><div id=\"sk-container-id-49\" class=\"sk-top-container\"><div class=\"sk-text-repr-fallback\"><pre>GridSearchCV(cv=10,\n",
       "             estimator=Pipeline(steps=[(&#x27;scl&#x27;, StandardScaler()),\n",
       "                                       (&#x27;pca&#x27;, PCA(n_components=0.9)),\n",
       "                                       (&#x27;clf&#x27;,\n",
       "                                        SVC(class_weight=&#x27;balanced&#x27;,\n",
       "                                            random_state=1))]),\n",
       "             n_jobs=-1,\n",
       "             param_grid=[{&#x27;clf__C&#x27;: [0.0001, 0.001, 0.01, 0.1, 1, 10, 100,\n",
       "                                     1000],\n",
       "                          &#x27;clf__gamma&#x27;: [0.0001, 0.001, 0.01, 0.1, 1, 10, 100,\n",
       "                                         1000],\n",
       "                          &#x27;clf__kernel&#x27;: [&#x27;linear&#x27;]},\n",
       "                         {&#x27;clf__C&#x27;: [0.0001, 0.001, 0.01, 0.1, 1, 10, 100,\n",
       "                                     1000],\n",
       "                          &#x27;clf__gamma&#x27;: [0.0001, 0.001, 0.01, 0.1, 1, 10, 100,\n",
       "                                         1000],\n",
       "                          &#x27;clf__kernel&#x27;: [&#x27;poly&#x27;]},\n",
       "                         {&#x27;clf__C&#x27;: [0.0001, 0.001, 0.01, 0.1, 1, 10, 100,\n",
       "                                     1000],\n",
       "                          &#x27;clf__gamma&#x27;: [0.0001, 0.001, 0.01, 0.1, 1, 10, 100,\n",
       "                                         1000],\n",
       "                          &#x27;clf__kernel&#x27;: [&#x27;rbf&#x27;]}],\n",
       "             scoring=make_scorer(f1_score, pos_label=0))</pre><b>In a Jupyter environment, please rerun this cell to show the HTML representation or trust the notebook. <br />On GitHub, the HTML representation is unable to render, please try loading this page with nbviewer.org.</b></div><div class=\"sk-container\" hidden><div class=\"sk-item sk-dashed-wrapped\"><div class=\"sk-label-container\"><div class=\"sk-label sk-toggleable\"><input class=\"sk-toggleable__control sk-hidden--visually\" id=\"sk-estimator-id-235\" type=\"checkbox\" ><label for=\"sk-estimator-id-235\" class=\"sk-toggleable__label sk-toggleable__label-arrow\">GridSearchCV</label><div class=\"sk-toggleable__content\"><pre>GridSearchCV(cv=10,\n",
       "             estimator=Pipeline(steps=[(&#x27;scl&#x27;, StandardScaler()),\n",
       "                                       (&#x27;pca&#x27;, PCA(n_components=0.9)),\n",
       "                                       (&#x27;clf&#x27;,\n",
       "                                        SVC(class_weight=&#x27;balanced&#x27;,\n",
       "                                            random_state=1))]),\n",
       "             n_jobs=-1,\n",
       "             param_grid=[{&#x27;clf__C&#x27;: [0.0001, 0.001, 0.01, 0.1, 1, 10, 100,\n",
       "                                     1000],\n",
       "                          &#x27;clf__gamma&#x27;: [0.0001, 0.001, 0.01, 0.1, 1, 10, 100,\n",
       "                                         1000],\n",
       "                          &#x27;clf__kernel&#x27;: [&#x27;linear&#x27;]},\n",
       "                         {&#x27;clf__C&#x27;: [0.0001, 0.001, 0.01, 0.1, 1, 10, 100,\n",
       "                                     1000],\n",
       "                          &#x27;clf__gamma&#x27;: [0.0001, 0.001, 0.01, 0.1, 1, 10, 100,\n",
       "                                         1000],\n",
       "                          &#x27;clf__kernel&#x27;: [&#x27;poly&#x27;]},\n",
       "                         {&#x27;clf__C&#x27;: [0.0001, 0.001, 0.01, 0.1, 1, 10, 100,\n",
       "                                     1000],\n",
       "                          &#x27;clf__gamma&#x27;: [0.0001, 0.001, 0.01, 0.1, 1, 10, 100,\n",
       "                                         1000],\n",
       "                          &#x27;clf__kernel&#x27;: [&#x27;rbf&#x27;]}],\n",
       "             scoring=make_scorer(f1_score, pos_label=0))</pre></div></div></div><div class=\"sk-parallel\"><div class=\"sk-parallel-item\"><div class=\"sk-item\"><div class=\"sk-label-container\"><div class=\"sk-label sk-toggleable\"><input class=\"sk-toggleable__control sk-hidden--visually\" id=\"sk-estimator-id-236\" type=\"checkbox\" ><label for=\"sk-estimator-id-236\" class=\"sk-toggleable__label sk-toggleable__label-arrow\">estimator: Pipeline</label><div class=\"sk-toggleable__content\"><pre>Pipeline(steps=[(&#x27;scl&#x27;, StandardScaler()), (&#x27;pca&#x27;, PCA(n_components=0.9)),\n",
       "                (&#x27;clf&#x27;, SVC(class_weight=&#x27;balanced&#x27;, random_state=1))])</pre></div></div></div><div class=\"sk-serial\"><div class=\"sk-item\"><div class=\"sk-serial\"><div class=\"sk-item\"><div class=\"sk-estimator sk-toggleable\"><input class=\"sk-toggleable__control sk-hidden--visually\" id=\"sk-estimator-id-237\" type=\"checkbox\" ><label for=\"sk-estimator-id-237\" class=\"sk-toggleable__label sk-toggleable__label-arrow\">StandardScaler</label><div class=\"sk-toggleable__content\"><pre>StandardScaler()</pre></div></div></div><div class=\"sk-item\"><div class=\"sk-estimator sk-toggleable\"><input class=\"sk-toggleable__control sk-hidden--visually\" id=\"sk-estimator-id-238\" type=\"checkbox\" ><label for=\"sk-estimator-id-238\" class=\"sk-toggleable__label sk-toggleable__label-arrow\">PCA</label><div class=\"sk-toggleable__content\"><pre>PCA(n_components=0.9)</pre></div></div></div><div class=\"sk-item\"><div class=\"sk-estimator sk-toggleable\"><input class=\"sk-toggleable__control sk-hidden--visually\" id=\"sk-estimator-id-239\" type=\"checkbox\" ><label for=\"sk-estimator-id-239\" class=\"sk-toggleable__label sk-toggleable__label-arrow\">SVC</label><div class=\"sk-toggleable__content\"><pre>SVC(class_weight=&#x27;balanced&#x27;, random_state=1)</pre></div></div></div></div></div></div></div></div></div></div></div></div>"
      ],
      "text/plain": [
       "GridSearchCV(cv=10,\n",
       "             estimator=Pipeline(steps=[('scl', StandardScaler()),\n",
       "                                       ('pca', PCA(n_components=0.9)),\n",
       "                                       ('clf',\n",
       "                                        SVC(class_weight='balanced',\n",
       "                                            random_state=1))]),\n",
       "             n_jobs=-1,\n",
       "             param_grid=[{'clf__C': [0.0001, 0.001, 0.01, 0.1, 1, 10, 100,\n",
       "                                     1000],\n",
       "                          'clf__gamma': [0.0001, 0.001, 0.01, 0.1, 1, 10, 100,\n",
       "                                         1000],\n",
       "                          'clf__kernel': ['linear']},\n",
       "                         {'clf__C': [0.0001, 0.001, 0.01, 0.1, 1, 10, 100,\n",
       "                                     1000],\n",
       "                          'clf__gamma': [0.0001, 0.001, 0.01, 0.1, 1, 10, 100,\n",
       "                                         1000],\n",
       "                          'clf__kernel': ['poly']},\n",
       "                         {'clf__C': [0.0001, 0.001, 0.01, 0.1, 1, 10, 100,\n",
       "                                     1000],\n",
       "                          'clf__gamma': [0.0001, 0.001, 0.01, 0.1, 1, 10, 100,\n",
       "                                         1000],\n",
       "                          'clf__kernel': ['rbf']}],\n",
       "             scoring=make_scorer(f1_score, pos_label=0))"
      ]
     },
     "execution_count": 233,
     "metadata": {},
     "output_type": "execute_result"
    }
   ],
   "source": [
    "gs.fit(X_train_osm, y_train_osm)"
   ]
  },
  {
   "cell_type": "code",
   "execution_count": 236,
   "id": "69d4cd01-ab98-45ca-8170-c78033f37470",
   "metadata": {
    "tags": []
   },
   "outputs": [
    {
     "data": {
      "text/plain": [
       "<sklearn.metrics._plot.confusion_matrix.ConfusionMatrixDisplay at 0x1303f4450>"
      ]
     },
     "execution_count": 236,
     "metadata": {},
     "output_type": "execute_result"
    },
    {
     "data": {
      "image/png": "[encoded data removed]",
      "text/plain": [
       "<Figure size 640x480 with 2 Axes>"
      ]
     },
     "metadata": {},
     "output_type": "display_data"
    }
   ],
   "source": [
    "y_pred = gs.predict(X_test)\n",
    "cm = metrics.confusion_matrix(y_test, y_pred)\n",
    "fig = metrics.ConfusionMatrixDisplay(cm)\n",
    "fig.plot()"
   ]
  },
  {
   "cell_type": "code",
   "execution_count": 238,
   "id": "b5f26a85-adc3-4dec-aebe-8292d684a437",
   "metadata": {
    "tags": []
   },
   "outputs": [
    {
     "name": "stdout",
     "output_type": "stream",
     "text": [
      "              precision    recall  f1-score   support\n",
      "\n",
      "           0       1.00      0.50      0.67         4\n",
      "           1       0.97      1.00      0.99        72\n",
      "\n",
      "    accuracy                           0.97        76\n",
      "   macro avg       0.99      0.75      0.83        76\n",
      "weighted avg       0.97      0.97      0.97        76\n",
      "\n"
     ]
    }
   ],
   "source": [
    "print(metrics.classification_report(y_test, y_pred))"
   ]
  },
  {
   "cell_type": "code",
   "execution_count": null,
   "id": "23e57e76-6d0b-4e18-9c73-23fef7548c19",
   "metadata": {},
   "outputs": [],
   "source": []
  }
 ],
 "metadata": {
  "kernelspec": {
   "display_name": "Python 3 (ipykernel)",
   "language": "python",
   "name": "python3"
  },
  "language_info": {
   "codemirror_mode": {
    "name": "ipython",
    "version": 3
   },
   "file_extension": ".py",
   "mimetype": "text/x-python",
   "name": "python",
   "nbconvert_exporter": "python",
   "pygments_lexer": "ipython3",
   "version": "3.11.5"
  }
 },
 "nbformat": 4,
 "nbformat_minor": 5
}
