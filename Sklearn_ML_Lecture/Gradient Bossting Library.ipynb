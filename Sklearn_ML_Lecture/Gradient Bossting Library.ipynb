{
 "cells": [
  {
   "cell_type": "markdown",
   "id": "fef04dcc-4f71-436c-a0b7-f8e91931c39e",
   "metadata": {},
   "source": [
    "# Gradient Bossting Library"
   ]
  },
  {
   "cell_type": "code",
   "execution_count": 1,
   "id": "329125fc-2855-4a8a-b067-5b97815acc9a",
   "metadata": {
    "tags": []
   },
   "outputs": [],
   "source": [
    "import pandas as pd\n",
    "import numpy as np\n",
    "import matplotlib.pyplot as plt\n",
    "import seaborn as sns\n",
    "\n",
    "from sklearn.datasets import load_iris\n",
    "from sklearn import metrics\n",
    "from sklearn.model_selection import train_test_split\n",
    "from sklearn.preprocessing import StandardScaler\n",
    "from sklearn.decomposition import PCA\n",
    "from sklearn.linear_model import LogisticRegression \n",
    "from sklearn.pipeline import Pipeline\n",
    "\n",
    "%matplotlib inline\n",
    "%config InlineBackend.figure_format = 'retina'"
   ]
  },
  {
   "cell_type": "code",
   "execution_count": 2,
   "id": "79d10d2e-0839-4c85-a15e-4697507f771d",
   "metadata": {
    "tags": []
   },
   "outputs": [
    {
     "name": "stdout",
     "output_type": "stream",
     "text": [
      "Collecting xgboost\n",
      "  Downloading xgboost-2.0.3-py3-none-macosx_12_0_arm64.whl (1.9 MB)\n",
      "\u001b[2K     \u001b[90m━━━━━━━━━━━━━━━━━━━━━━━━━━━━━━━━━━━━━━━━\u001b[0m \u001b[32m1.9/1.9 MB\u001b[0m \u001b[31m379.0 kB/s\u001b[0m eta \u001b[36m0:00:00\u001b[0m00:01\u001b[0m00:01\u001b[0m\n",
      "\u001b[?25hRequirement already satisfied: numpy in /Users/jessadakorn/anaconda3/lib/python3.11/site-packages (from xgboost) (1.24.3)\n",
      "Requirement already satisfied: scipy in /Users/jessadakorn/anaconda3/lib/python3.11/site-packages (from xgboost) (1.11.1)\n",
      "Installing collected packages: xgboost\n",
      "Successfully installed xgboost-2.0.3\n",
      "\n",
      "\u001b[1m[\u001b[0m\u001b[34;49mnotice\u001b[0m\u001b[1;39;49m]\u001b[0m\u001b[39;49m A new release of pip is available: \u001b[0m\u001b[31;49m23.0.1\u001b[0m\u001b[39;49m -> \u001b[0m\u001b[32;49m23.3.2\u001b[0m\n",
      "\u001b[1m[\u001b[0m\u001b[34;49mnotice\u001b[0m\u001b[1;39;49m]\u001b[0m\u001b[39;49m To update, run: \u001b[0m\u001b[32;49mpip install --upgrade pip\u001b[0m\n"
     ]
    }
   ],
   "source": [
    "!pip install xgboost"
   ]
  },
  {
   "cell_type": "code",
   "execution_count": 3,
   "id": "25a32ae2-3de7-4da1-b52a-25a3c8de2d3a",
   "metadata": {
    "tags": []
   },
   "outputs": [
    {
     "name": "stdout",
     "output_type": "stream",
     "text": [
      "Requirement already satisfied: lightgbm in /Users/jessadakorn/anaconda3/lib/python3.11/site-packages (3.3.2)\n",
      "Requirement already satisfied: wheel in /Users/jessadakorn/anaconda3/lib/python3.11/site-packages (from lightgbm) (0.38.4)\n",
      "Requirement already satisfied: numpy in /Users/jessadakorn/anaconda3/lib/python3.11/site-packages (from lightgbm) (1.24.3)\n",
      "Requirement already satisfied: scipy in /Users/jessadakorn/anaconda3/lib/python3.11/site-packages (from lightgbm) (1.11.1)\n",
      "Requirement already satisfied: scikit-learn!=0.22.0 in /Users/jessadakorn/anaconda3/lib/python3.11/site-packages (from lightgbm) (1.3.0)\n",
      "Requirement already satisfied: joblib>=1.1.1 in /Users/jessadakorn/anaconda3/lib/python3.11/site-packages (from scikit-learn!=0.22.0->lightgbm) (1.2.0)\n",
      "Requirement already satisfied: threadpoolctl>=2.0.0 in /Users/jessadakorn/anaconda3/lib/python3.11/site-packages (from scikit-learn!=0.22.0->lightgbm) (2.2.0)\n",
      "\n",
      "\u001b[1m[\u001b[0m\u001b[34;49mnotice\u001b[0m\u001b[1;39;49m]\u001b[0m\u001b[39;49m A new release of pip is available: \u001b[0m\u001b[31;49m23.0.1\u001b[0m\u001b[39;49m -> \u001b[0m\u001b[32;49m23.3.2\u001b[0m\n",
      "\u001b[1m[\u001b[0m\u001b[34;49mnotice\u001b[0m\u001b[1;39;49m]\u001b[0m\u001b[39;49m To update, run: \u001b[0m\u001b[32;49mpip install --upgrade pip\u001b[0m\n"
     ]
    }
   ],
   "source": [
    "!pip install lightgbm"
   ]
  },
  {
   "cell_type": "code",
   "execution_count": 4,
   "id": "cebf4f5e-0cca-48ab-a35e-be0f38e45bf6",
   "metadata": {
    "tags": []
   },
   "outputs": [
    {
     "name": "stdout",
     "output_type": "stream",
     "text": [
      "Collecting catboost\n",
      "  Downloading catboost-1.2.2-cp311-cp311-macosx_11_0_universal2.whl (25.7 MB)\n",
      "\u001b[2K     \u001b[90m━━━━━━━━━━━━━━━━━━━━━━━━━━━━━━━━━━━━━━━\u001b[0m \u001b[32m25.7/25.7 MB\u001b[0m \u001b[31m233.6 kB/s\u001b[0m eta \u001b[36m0:00:00\u001b[0m00:01\u001b[0m00:04\u001b[0m\n",
      "\u001b[?25hRequirement already satisfied: graphviz in /Users/jessadakorn/anaconda3/lib/python3.11/site-packages (from catboost) (0.20.1)\n",
      "Requirement already satisfied: matplotlib in /Users/jessadakorn/anaconda3/lib/python3.11/site-packages (from catboost) (3.7.2)\n",
      "Requirement already satisfied: numpy>=1.16.0 in /Users/jessadakorn/anaconda3/lib/python3.11/site-packages (from catboost) (1.24.3)\n",
      "Requirement already satisfied: pandas>=0.24 in /Users/jessadakorn/anaconda3/lib/python3.11/site-packages (from catboost) (2.0.3)\n",
      "Requirement already satisfied: scipy in /Users/jessadakorn/anaconda3/lib/python3.11/site-packages (from catboost) (1.11.1)\n",
      "Requirement already satisfied: plotly in /Users/jessadakorn/anaconda3/lib/python3.11/site-packages (from catboost) (5.9.0)\n",
      "Requirement already satisfied: six in /Users/jessadakorn/anaconda3/lib/python3.11/site-packages (from catboost) (1.16.0)\n",
      "Requirement already satisfied: python-dateutil>=2.8.2 in /Users/jessadakorn/anaconda3/lib/python3.11/site-packages (from pandas>=0.24->catboost) (2.8.2)\n",
      "Requirement already satisfied: pytz>=2020.1 in /Users/jessadakorn/anaconda3/lib/python3.11/site-packages (from pandas>=0.24->catboost) (2023.3.post1)\n",
      "Requirement already satisfied: tzdata>=2022.1 in /Users/jessadakorn/anaconda3/lib/python3.11/site-packages (from pandas>=0.24->catboost) (2023.3)\n",
      "Requirement already satisfied: contourpy>=1.0.1 in /Users/jessadakorn/anaconda3/lib/python3.11/site-packages (from matplotlib->catboost) (1.0.5)\n",
      "Requirement already satisfied: cycler>=0.10 in /Users/jessadakorn/anaconda3/lib/python3.11/site-packages (from matplotlib->catboost) (0.11.0)\n",
      "Requirement already satisfied: fonttools>=4.22.0 in /Users/jessadakorn/anaconda3/lib/python3.11/site-packages (from matplotlib->catboost) (4.25.0)\n",
      "Requirement already satisfied: kiwisolver>=1.0.1 in /Users/jessadakorn/anaconda3/lib/python3.11/site-packages (from matplotlib->catboost) (1.4.4)\n",
      "Requirement already satisfied: packaging>=20.0 in /Users/jessadakorn/anaconda3/lib/python3.11/site-packages (from matplotlib->catboost) (23.1)\n",
      "Requirement already satisfied: pillow>=6.2.0 in /Users/jessadakorn/anaconda3/lib/python3.11/site-packages (from matplotlib->catboost) (9.4.0)\n",
      "Requirement already satisfied: pyparsing<3.1,>=2.3.1 in /Users/jessadakorn/anaconda3/lib/python3.11/site-packages (from matplotlib->catboost) (3.0.9)\n",
      "Requirement already satisfied: tenacity>=6.2.0 in /Users/jessadakorn/anaconda3/lib/python3.11/site-packages (from plotly->catboost) (8.2.2)\n",
      "Installing collected packages: catboost\n",
      "Successfully installed catboost-1.2.2\n",
      "\n",
      "\u001b[1m[\u001b[0m\u001b[34;49mnotice\u001b[0m\u001b[1;39;49m]\u001b[0m\u001b[39;49m A new release of pip is available: \u001b[0m\u001b[31;49m23.0.1\u001b[0m\u001b[39;49m -> \u001b[0m\u001b[32;49m23.3.2\u001b[0m\n",
      "\u001b[1m[\u001b[0m\u001b[34;49mnotice\u001b[0m\u001b[1;39;49m]\u001b[0m\u001b[39;49m To update, run: \u001b[0m\u001b[32;49mpip install --upgrade pip\u001b[0m\n"
     ]
    }
   ],
   "source": [
    "!pip install catboost"
   ]
  },
  {
   "cell_type": "markdown",
   "id": "e301263c-0983-4a21-a5e6-6f235552e776",
   "metadata": {},
   "source": [
    "# Load dataset"
   ]
  },
  {
   "cell_type": "code",
   "execution_count": 5,
   "id": "c5843997-acd1-41f0-8d89-aba59bbf6e4a",
   "metadata": {
    "tags": []
   },
   "outputs": [
    {
     "data": {
      "text/html": [
       "<div>\n",
       "<style scoped>\n",
       "    .dataframe tbody tr th:only-of-type {\n",
       "        vertical-align: middle;\n",
       "    }\n",
       "\n",
       "    .dataframe tbody tr th {\n",
       "        vertical-align: top;\n",
       "    }\n",
       "\n",
       "    .dataframe thead th {\n",
       "        text-align: right;\n",
       "    }\n",
       "</style>\n",
       "<table border=\"1\" class=\"dataframe\">\n",
       "  <thead>\n",
       "    <tr style=\"text-align: right;\">\n",
       "      <th></th>\n",
       "      <th>sepal length (cm)</th>\n",
       "      <th>sepal width (cm)</th>\n",
       "      <th>target</th>\n",
       "    </tr>\n",
       "  </thead>\n",
       "  <tbody>\n",
       "    <tr>\n",
       "      <th>0</th>\n",
       "      <td>3.2</td>\n",
       "      <td>4.7</td>\n",
       "      <td>0</td>\n",
       "    </tr>\n",
       "    <tr>\n",
       "      <th>1</th>\n",
       "      <td>3.2</td>\n",
       "      <td>4.5</td>\n",
       "      <td>0</td>\n",
       "    </tr>\n",
       "    <tr>\n",
       "      <th>2</th>\n",
       "      <td>3.1</td>\n",
       "      <td>4.9</td>\n",
       "      <td>0</td>\n",
       "    </tr>\n",
       "    <tr>\n",
       "      <th>3</th>\n",
       "      <td>2.3</td>\n",
       "      <td>4.0</td>\n",
       "      <td>0</td>\n",
       "    </tr>\n",
       "    <tr>\n",
       "      <th>4</th>\n",
       "      <td>2.8</td>\n",
       "      <td>4.6</td>\n",
       "      <td>0</td>\n",
       "    </tr>\n",
       "    <tr>\n",
       "      <th>...</th>\n",
       "      <td>...</td>\n",
       "      <td>...</td>\n",
       "      <td>...</td>\n",
       "    </tr>\n",
       "    <tr>\n",
       "      <th>95</th>\n",
       "      <td>3.0</td>\n",
       "      <td>5.2</td>\n",
       "      <td>1</td>\n",
       "    </tr>\n",
       "    <tr>\n",
       "      <th>96</th>\n",
       "      <td>2.5</td>\n",
       "      <td>5.0</td>\n",
       "      <td>1</td>\n",
       "    </tr>\n",
       "    <tr>\n",
       "      <th>97</th>\n",
       "      <td>3.0</td>\n",
       "      <td>5.2</td>\n",
       "      <td>1</td>\n",
       "    </tr>\n",
       "    <tr>\n",
       "      <th>98</th>\n",
       "      <td>3.4</td>\n",
       "      <td>5.4</td>\n",
       "      <td>1</td>\n",
       "    </tr>\n",
       "    <tr>\n",
       "      <th>99</th>\n",
       "      <td>3.0</td>\n",
       "      <td>5.1</td>\n",
       "      <td>1</td>\n",
       "    </tr>\n",
       "  </tbody>\n",
       "</table>\n",
       "<p>100 rows × 3 columns</p>\n",
       "</div>"
      ],
      "text/plain": [
       "    sepal length (cm)  sepal width (cm)  target\n",
       "0                 3.2               4.7       0\n",
       "1                 3.2               4.5       0\n",
       "2                 3.1               4.9       0\n",
       "3                 2.3               4.0       0\n",
       "4                 2.8               4.6       0\n",
       "..                ...               ...     ...\n",
       "95                3.0               5.2       1\n",
       "96                2.5               5.0       1\n",
       "97                3.0               5.2       1\n",
       "98                3.4               5.4       1\n",
       "99                3.0               5.1       1\n",
       "\n",
       "[100 rows x 3 columns]"
      ]
     },
     "execution_count": 5,
     "metadata": {},
     "output_type": "execute_result"
    }
   ],
   "source": [
    "dataobj = load_iris()\n",
    "X = pd.DataFrame(dataobj.data[50:, [1,2]], columns=dataobj.feature_names[:2])\n",
    "y = dataobj.target[50:]\n",
    "y = np.where(y == 2, 1, 0)\n",
    "#np.unique(y)\n",
    "\n",
    "df = X\n",
    "df['target'] = y\n",
    "\n",
    "df"
   ]
  },
  {
   "cell_type": "code",
   "execution_count": 22,
   "id": "05301a9a-550f-4f61-a784-99c1144608cc",
   "metadata": {
    "tags": []
   },
   "outputs": [],
   "source": [
    "X_train, X_test, y_train, y_test = train_test_split(X, y, train_size=.8, random_state=1, stratify=y)"
   ]
  },
  {
   "cell_type": "markdown",
   "id": "39fd07fc-aee9-4d5b-aaef-e6f8a1c5be33",
   "metadata": {},
   "source": [
    "# Scoring"
   ]
  },
  {
   "cell_type": "code",
   "execution_count": 26,
   "id": "68289d45-bbe1-496e-bfdc-7232b30aca4a",
   "metadata": {
    "tags": []
   },
   "outputs": [],
   "source": [
    "from sklearn.metrics import make_scorer\n",
    "\n",
    "## accuracy\n",
    "acc = make_scorer(metrics.accuracy_score)\n",
    "\n",
    "## precision\n",
    "pre = make_scorer(metrics.precision_score, zero_division=0, pos_label=1, average='weighted')\n",
    "\n",
    "## recall\n",
    "rec = make_scorer(metrics.recall_score, zero_division=0, pos_label=1, average='weighted')\n",
    "\n",
    "## F1\n",
    "f1 = make_scorer(metrics.f1_score, pos_label=1, average='weighted')\n",
    "\n",
    "## aucroc\n",
    "aucroc = make_scorer(metrics.roc_auc_score)\n",
    "\n",
    "scoring = {\n",
    "    'accuracy' : acc,\n",
    "    'precision' : pre,\n",
    "    'recall' : rec,\n",
    "    'f1' : f1,\n",
    "    'aucroc' : aucroc\n",
    "}"
   ]
  },
  {
   "cell_type": "markdown",
   "id": "4d5e771d-1ccb-4745-adef-6e967f4a9241",
   "metadata": {},
   "source": [
    "# Gradient Boosting"
   ]
  },
  {
   "cell_type": "code",
   "execution_count": 39,
   "id": "b00a1642-3a03-4c4b-951d-6be5cace1f82",
   "metadata": {
    "tags": []
   },
   "outputs": [],
   "source": [
    "from xgboost import XGBClassifier\n",
    "from lightgbm import LGBMClassifier\n",
    "from catboost import CatBoostClassifier\n",
    "\n",
    "from sklearn.ensemble import AdaBoostClassifier\n",
    "from sklearn.tree import DecisionTreeClassifier\n",
    "from sklearn.ensemble import BaggingClassifier\n",
    "\n",
    "## Bagging\n",
    "base = DecisionTreeClassifier(max_depth=None, criterion='entropy', random_state=1)\n",
    "bag = BaggingClassifier(estimator=base, n_estimators=100, bootstrap=True, \n",
    "                        bootstrap_features=True,max_samples=20,  max_features=3,n_jobs=-1,random_state=1)\n",
    "\n",
    "\n",
    "## Ada Boost\n",
    "tree = DecisionTreeClassifier(max_depth=1, random_state=1, criterion='entropy')\n",
    "ada = AdaBoostClassifier(estimator=tree, learning_rate=.01, random_state=1, n_estimators=100)\n",
    "\n",
    "\n",
    "## Xgboost\n",
    "xgb = XGBClassifier(eval_metric='logloss', use_label_encoder=False, n_estimators=100)\n",
    "pipe_xgb = Pipeline([\n",
    "    ('scl', StandardScaler()), \n",
    "    ('pca', PCA(n_components=.9)),\n",
    "    ('clf', xgb)\n",
    "])\n",
    "\n",
    "## Light GBM\n",
    "lgb = LGBMClassifier(n_estimators=100)\n",
    "pipe_lgb = Pipeline([\n",
    "    ('scl', StandardScaler()), \n",
    "    ('pca', PCA(n_components=.9)),\n",
    "    ('clf', lgb)\n",
    "])\n",
    "## Cat Boost\n",
    "cat = CatBoostClassifier(verbose=0, n_estimators=100)\n",
    "pipe_cat = Pipeline([\n",
    "    ('scl', StandardScaler()), \n",
    "    ('pca', PCA(n_components=.9)),\n",
    "    ('clf', cat)\n",
    "])\n",
    "\n",
    "models = [('BaggingClassifier', bag), ('AdaBoostClassifier', ada), ('AdaBoost', ada),('XGBClassifier', pipe_xgb), ('LGBMClassifier', pipe_lgb), ('CatBoostClassifier', pipe_cat)]"
   ]
  },
  {
   "cell_type": "markdown",
   "id": "fc642f68-dc2b-41de-997f-4eb06d5e5c64",
   "metadata": {},
   "source": [
    "# Cross validation"
   ]
  },
  {
   "cell_type": "code",
   "execution_count": 40,
   "id": "2d21af5f-82d3-4d0f-8e83-dc4d5431ff58",
   "metadata": {
    "tags": []
   },
   "outputs": [
    {
     "data": {
      "text/html": [
       "<div>\n",
       "<style scoped>\n",
       "    .dataframe tbody tr th:only-of-type {\n",
       "        vertical-align: middle;\n",
       "    }\n",
       "\n",
       "    .dataframe tbody tr th {\n",
       "        vertical-align: top;\n",
       "    }\n",
       "\n",
       "    .dataframe thead th {\n",
       "        text-align: right;\n",
       "    }\n",
       "</style>\n",
       "<table border=\"1\" class=\"dataframe\">\n",
       "  <thead>\n",
       "    <tr style=\"text-align: right;\">\n",
       "      <th></th>\n",
       "      <th>accuracy</th>\n",
       "      <th>precision</th>\n",
       "      <th>recall</th>\n",
       "      <th>f1</th>\n",
       "      <th>aucroc</th>\n",
       "    </tr>\n",
       "    <tr>\n",
       "      <th>model</th>\n",
       "      <th></th>\n",
       "      <th></th>\n",
       "      <th></th>\n",
       "      <th></th>\n",
       "      <th></th>\n",
       "    </tr>\n",
       "  </thead>\n",
       "  <tbody>\n",
       "    <tr>\n",
       "      <th>BaggingClassifier</th>\n",
       "      <td>1.000</td>\n",
       "      <td>1.000</td>\n",
       "      <td>1.000</td>\n",
       "      <td>1.000</td>\n",
       "      <td>1.000</td>\n",
       "    </tr>\n",
       "    <tr>\n",
       "      <th>AdaBoostClassifier</th>\n",
       "      <td>1.000</td>\n",
       "      <td>1.000</td>\n",
       "      <td>1.000</td>\n",
       "      <td>1.000</td>\n",
       "      <td>1.000</td>\n",
       "    </tr>\n",
       "    <tr>\n",
       "      <th>AdaBoost</th>\n",
       "      <td>1.000</td>\n",
       "      <td>1.000</td>\n",
       "      <td>1.000</td>\n",
       "      <td>1.000</td>\n",
       "      <td>1.000</td>\n",
       "    </tr>\n",
       "    <tr>\n",
       "      <th>XGBClassifier</th>\n",
       "      <td>0.988</td>\n",
       "      <td>0.990</td>\n",
       "      <td>0.988</td>\n",
       "      <td>0.987</td>\n",
       "      <td>0.988</td>\n",
       "    </tr>\n",
       "    <tr>\n",
       "      <th>LGBMClassifier</th>\n",
       "      <td>0.988</td>\n",
       "      <td>0.990</td>\n",
       "      <td>0.988</td>\n",
       "      <td>0.987</td>\n",
       "      <td>0.988</td>\n",
       "    </tr>\n",
       "    <tr>\n",
       "      <th>CatBoostClassifier</th>\n",
       "      <td>0.988</td>\n",
       "      <td>0.990</td>\n",
       "      <td>0.988</td>\n",
       "      <td>0.987</td>\n",
       "      <td>0.988</td>\n",
       "    </tr>\n",
       "  </tbody>\n",
       "</table>\n",
       "</div>"
      ],
      "text/plain": [
       "                   accuracy precision  recall      f1  aucroc\n",
       "model                                                        \n",
       "BaggingClassifier     1.000     1.000   1.000   1.000   1.000\n",
       "AdaBoostClassifier    1.000     1.000   1.000   1.000   1.000\n",
       "AdaBoost              1.000     1.000   1.000   1.000   1.000\n",
       "XGBClassifier         0.988     0.990   0.988   0.987   0.988\n",
       "LGBMClassifier        0.988     0.990   0.988   0.987   0.988\n",
       "CatBoostClassifier    0.988     0.990   0.988   0.987   0.988"
      ]
     },
     "execution_count": 40,
     "metadata": {},
     "output_type": "execute_result"
    }
   ],
   "source": [
    "from sklearn.model_selection import cross_validate\n",
    "\n",
    "result = []\n",
    "\n",
    "for (name, pipe) in models:\n",
    "    cv = cross_validate(\n",
    "        estimator=pipe,\n",
    "        X=X_train,\n",
    "        y=y_train,\n",
    "        scoring=scoring,\n",
    "        cv=10,\n",
    "        n_jobs=-1\n",
    "    )\n",
    "    \n",
    "    ACC=cv['test_accuracy']\n",
    "    PRE=cv['test_precision']\n",
    "    REC=cv['test_recall']\n",
    "    F1=cv['test_f1']\n",
    "    AUCROC=cv['test_aucroc']\n",
    "    \n",
    "    re = {\n",
    "        'model' : name,\n",
    "        'accuracy' : f'{np.mean(ACC):6.3f}',\n",
    "        'precision' : f'{np.mean(PRE):6.3f}',\n",
    "        'recall' : f'{np.mean(REC):6.3f}',\n",
    "        'f1' : f'{np.mean(F1):6.3f}',\n",
    "        'aucroc' : f'{np.mean(AUCROC):6.3f}',\n",
    "    }\n",
    "    result.append(re)\n",
    "    \n",
    "pd.DataFrame(result).set_index('model')"
   ]
  },
  {
   "cell_type": "code",
   "execution_count": null,
   "id": "da8bf5ed-e0e9-4313-ad53-c1579ab14fe2",
   "metadata": {},
   "outputs": [],
   "source": []
  }
 ],
 "metadata": {
  "kernelspec": {
   "display_name": "Python 3 (ipykernel)",
   "language": "python",
   "name": "python3"
  },
  "language_info": {
   "codemirror_mode": {
    "name": "ipython",
    "version": 3
   },
   "file_extension": ".py",
   "mimetype": "text/x-python",
   "name": "python",
   "nbconvert_exporter": "python",
   "pygments_lexer": "ipython3",
   "version": "3.11.5"
  }
 },
 "nbformat": 4,
 "nbformat_minor": 5
}
